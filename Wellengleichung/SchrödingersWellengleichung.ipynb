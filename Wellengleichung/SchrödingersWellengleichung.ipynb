{
 "cells": [
  {
   "cell_type": "markdown",
   "metadata": {},
   "source": [
    "# Die Simulation von Schrödingers Wellengleichung\n",
    "\n",
    "Wenn man Schrödingers Wellengleichung simulieren möchte, muss man sich dem mathematischen Verständnis der Gleichung insoweit nähern, dass man sie in Programmcode übersetzen kann. Es geht bei dieser Hinführung nicht darum, die Wellengleichung von Schrödinger so zu erklären, dass damit eine Physikerin oder ein Physiker zufrieden wäre. Aber ich möchte erreichen, dass Sie die Verbindung von mathematisch modellierter Physik und der Möglichkeit zur Simulation der Formel herstellen können. Die Simulation von Schrödingers Wellengleichung beschert einem faszinierende und schöne Bilder einer quantenmechanischen Modellvorstellung.\n",
    "\n",
    "> HINWEIS: THIS IS WORK IN PROGRESS"
   ]
  },
  {
   "cell_type": "markdown",
   "metadata": {},
   "source": [
    "## Schrödingers Wellengleichung\n",
    "\n",
    "Schrödinger beschreibt ein System aus Quanten als Wellengleichung. Die Wellenfunktion $\\Psi(x, t)$ steht für einen quantenmechanischen Zustand im Raum im Zeitverlauf; hier ist die Annahme, dass der Raum eindimensional sei. Die Wellenfunktion $\\Psi$ ordnet jedem Punkt $x$ im Raum zu jedem Zeitpunkt $t$ einen komplexen Zahlenwert zu. Im einfachsten, nicht-relativistischen Fall sieht die Wellengleichung für die eindimensionale Wellenfunktion wie folgt aus:\n",
    "\n",
    "$$i\\hbar\\frac{\\partial}{\\partial t} \\Psi(x,t) = \\left [ - \\frac{\\hbar^2}{2m}\\frac{\\partial^2}{\\partial x^2} + V(x,t)\\right ] \\Psi(x,t)$$\n",
    "\n",
    "Mit $m$ wird die Masse des durch die Wellengleichung beschriebenen Partikels, z.B. eines Atoms oder eines Photons (auch: Lichtteilchen oder Lichtquantum) erfasst. Ein Photon hat zwar keine \"Ruhemasse\" im traditionellen Sinn, was aber irrelevant ist, weil es ein Photon in Ruhe nicht gibt und ihm aufgrund der Äquivalenz von Energie und Masse ($E = m\\cdot c^2$) über eine \"Ruheenergie\" eine Masse zugeschrieben wird. (Siehe hierzu die Anmerkung zur [Ruhemasse](https://de.wikipedia.org/wiki/Photon#cite_note-masse0-1) auf Wikipedia.)\n",
    "\n",
    "Das Symbol $\\hbar$ steht für das [reduzierte Plancksche Wirkungsquantum](https://de.wikipedia.org/wiki/Plancksches_Wirkungsquantum#Reduziertes_Plancksches_Wirkungsquantum) $\\hbar = h/2\\pi = 6{,}582\\,119\\,569 \\ldots \\cdot 10^{-16}\\,e\\mathrm{V}\\mathrm{s}$. Das Plancksche Wirkungsquantum $h$ modelliert als Konstante den Zusammenhang, dass die Energie $E$ eines Photons oder Quantums nur in diskreten Vielfachen der Frequenz $f$ auftreten kann, es gilt $E = h\\cdot f$.\n",
    "\n",
    "Das Symbol $i$ steht für die imaginäre Einheit mit $i^2 = -1$ bzw. $i = \\sqrt{-1}$.\n",
    "\n",
    "Mit $V(x,t)$ wird die im Raum und in der Zeit veränderliche potenzielle Energie (klassisch auch Lageenergie genannt) in Form eines [Skalarpotenzials](https://en.wikipedia.org/wiki/Scalar_potential) beschrieben. Damit wird die Umgebung modelliert, in der sich die Wellenfunktion \"aufhält\" oder ereignet. Ein einfaches Beispiel, siehe nachstehendes Bild (Quelle: [Wikipedia](https://commons.wikimedia.org/wiki/File:Potential_energy_well.svg)), ist ein sogenannter Potenzialtopf, der ein Partikel \"gefangen\" hält. Nach der klassischen Mechanik kann ein Partikel mit einer Energie $E$, den Bereich zwischen $x_1$ und $x_2$ nicht verlassen. In den Quantentheorie gilt das so nicht. Ein Quantum kann eine Potenzialbarriere, die sich ihm in den Weg stellt, trotz geringerer Energie \"tunneln\" und damit überwinden.\n",
    "\n",
    "![Beispielhaftes Potenzial $V(x)$ ohne Abhängigkeit von der Zeit $t$](https://upload.wikimedia.org/wikipedia/commons/thumb/c/c5/Potential_energy_well.svg/320px-Potential_energy_well.svg.png)\n",
    "\n",
    "Mit $\\frac{\\partial}{\\partial t}$ ist die partielle Ableitung nach der Zeit gemeint und mit $\\frac{\\partial^2}{\\partial x^2}$ die zweifache partielle Ableitung nach dem Ort. Bei der [partiellen Ableitung](https://de.wikipedia.org/wiki/Partielle_Ableitung) wird bei einer Funktion mit mehreren Parametern die Ableitung nur nach dem gegebenen Parameter berechnet, die anderen Parameter werden als Konstante betrachtet. Partielle Ableitungen sind als Operatoren zu verstehen, die sich auf eine Funktion beziehen. Auf der linken Gleichungsseite ist die Anwendung der Ableitung auf die Wellenfunktion unmittelbar ersichtlich. Auf der rechten Gleichungsseite klärt das gedankliche oder tatsächliche Ausmultiplizieren des Klammerausdrucks die Anwendung der örtlichen Ableitung auf die Wellenfunktion.\n",
    "\n",
    "$$i\\hbar\\frac{\\partial}{\\partial t} \\Psi(x,t) = -\\frac{\\hbar^2}{2m}\\frac{\\partial^2}{\\partial x^2} \\Psi(x,t) + V(x,t) \\Psi(x,t)$$\n",
    "\n",
    "**Einheitencheck:** \n",
    "\n",
    "Das reduzierte Plancksche Wirkungsquantum $\\hbar$ hat die Einheit $[\\hbar] = e\\mathrm{V}\\mathrm{s}$ (Elektronenvoltsekunde). Die linke Gleichungsseite hat die Einheit $[\\hbar/\\partial t]= e\\mathrm{V}\\mathrm{s}/\\mathrm{s} = e\\mathrm{V}$. Ein [Elektronenvolt](https://de.wikipedia.org/wiki/Elektronenvolt) $e\\mathrm{V}$ ist die kinetische Energie, die ein Elektron beim Durchlaufen einer Spannung von einem Volt gewinnt. Der erste Summand auf der rechten Gleichungsseite hat für die Masse $m$ (erinnert sei an $m = E/c^2$) die Einheit $[m] = e\\mathrm{V}/(\\mathrm{m}^2/\\mathrm{s}^2)$. Folglich hat der erste Summand die Einheit $[\\hbar^2/m\\cdot 1/\\partial x^2] = e\\mathrm{V}$. Der Seite Summand hat mit $[V(x,t)] = e\\mathrm{V}$ ebenfalls die gleiche Einheit. $\\Psi(x,t)$ repräsentiert lediglich komplexe Zahlen."
   ]
  },
  {
   "cell_type": "markdown",
   "metadata": {},
   "source": [
    "## Von der Differential- zur Differenzengleichung\n",
    "\n",
    "Die Schrödinger-Gleichung ist eine Differentialgleichung. Zur numerischen Lösung einer Differentialgleichung auf einem Computer ist die Differentialgleichung in eine Differenzengleichung umzuwandeln. Die Wellenfunktion wird nur noch zu zeitdiskreten Momenten $t_n = t_0 + n\\cdot \\Delta t$ betrachtet bzw. an diskreten Ortsstellen $x_k = x_0 + k\\cdot\\Delta x$ für $n, k\\in\\mathbb{N}_0$; $\\Delta t$ und $\\Delta x$ sind konstante Intervalle.\n",
    "\n",
    "### Die Wellenfunktion in der Veränderung über die Zeit\n",
    "\n",
    "Da man die Wellengleichung im zeitlichen Verlauf betrachten möchte, kann man den Differentialquotienten bezüglich der Zeit durch einen Differenzenquotienten annähern mit\n",
    "\n",
    "$$\\frac{\\partial}{\\partial t} \\Psi(x,t) \\approx \\frac{\\Psi(x, t_n + \\Delta t) - \\Psi(x, t_n)}{\\Delta t}$$\n",
    "\n",
    "Die Wellengleichung lässt sich umformulieren als Berechnung von $\\Psi$ zum neuen Zeitpunkt $t_{n+1} = t_n + \\Delta t$ aus dem vorherigen $\\Psi$ zum Zeitpunkt $t_n$; beachte, dass $1/i = -i$:\n",
    "\n",
    "$$\\Psi(x,t_{n+1}) = \\Psi(x, t_n) + i\\frac{\\hbar}{2m}\\frac{\\partial^2}{\\partial x^2} \\Psi(x,t_n) \\Delta t - \\frac{i}{\\hbar} V(x,t_n) \\Psi(x,t_n) \\Delta t$$\n",
    "\n",
    "### Die Wellenfunktion in der Veränderung über den Ort\n",
    "\n",
    "Es bleibt die zweite partielle Ableitung übrig, $\\frac{\\partial^2}{\\partial x^2} \\Psi(x,t_n)$, die über den Ort abzuleiten ist. Am Beispiel einer Funktion $f(x)$ sei die Annäherung für die zweite Ableitung hergeleitet, siehe nachstehende Abbildung.\n",
    "\n",
    "<img src=\"DiskreteBerechnungDerZweitenAbleitung.jpg\" alt=\"Diskrete Berechnung der zweiten Ableitung\" style=\"height: 300px; margin: auto\"/>\n",
    "\n",
    "$$f'(x - \\Delta x / 2) \\approx \\frac{f(x) - f(x - \\Delta x)}{\\Delta x}$$\n",
    "$$f'(x + \\Delta x / 2) \\approx \\frac{f(x + \\Delta x) - f(x)}{\\Delta x}$$\n",
    "\n",
    "$$\\begin{aligned}\n",
    "f''(x) &\\approx \\frac{f'(x + \\Delta x / 2) - f'(x - \\Delta x / 2)}{\\Delta x}\\\\\n",
    "       &\\approx\n",
    "       \\frac{\n",
    "            \\frac{f(x + \\Delta x) - f(x)}{\\Delta x}\n",
    "        -   \\frac{f(x) - f(x - \\Delta x)}{\\Delta x}\n",
    "       }{\\Delta x}\n",
    "\\end{aligned}$$\n",
    "\n",
    "Es gilt:\n",
    "$$ f''(x) \\approx \\frac{f(x + \\Delta x) - 2 f(x) + f(x - \\Delta x)}{(\\Delta x)^2}$$\n",
    "\n",
    "Für die zweite partielle Ableitung der Wellenfunktion ergibt sich folglich zu einem Zeitpunkt $t_n$:\n",
    "\n",
    "$$\\frac{\\partial^2}{\\partial x^2} \\Psi(x_k,t_n)\n",
    "\\approx \\frac{\\Psi(x_{k+1}, t_n) - 2 \\Psi(x_k, t_n) + \\Psi(x_{k-1}, t_n)}{(\\Delta x)^2}\n",
    "$$\n",
    "\n",
    "### Die Wellenfunktion als Differenzengleichung\n",
    "\n",
    "Die Wellenfunktion $\\Psi(x_k, t_n)$ repräsentiert komplexe Zahlen zu einem Zeitpunkt $t_n$ über den Ort $x_k$. Die örtliche Veränderung der komplexen Zahlen im nächsten Zeitschritt berechnet sich zu:\n",
    "\n",
    "$$\\begin{aligned}\n",
    "\\Psi(x_k,t_{n+1})\n",
    "&= \\Psi(x_k, t_n)\\\\\n",
    "&+\n",
    "i\\frac{\\hbar}{2m}\n",
    "\\frac{\\Psi(x_{k+1}, t_n) - 2 \\Psi(x_k, t_n) + \\Psi(x_{k-1}, t_n)}{(\\Delta x)^2}\n",
    "\\Delta t\\\\\n",
    "&-\n",
    "\\frac{i}{\\hbar} V(x_k,t_n) \\Psi(x_k,t_n) \\Delta t\n",
    "\\end{aligned}$$\n",
    "\n",
    "Mit $a = \\frac{\\hbar}{2m}\\frac{\\Delta t}{(\\Delta x)^2}$ und $b = \\frac{\\Delta t}{\\hbar}$ vereinfacht sich die Darstellung der Berechnung:\n",
    "\n",
    "$$\\begin{aligned}\n",
    "\\Psi(x_k,t_{n+1})\n",
    "&= \\Psi(x_k, t_n)\\\\\n",
    "&+\n",
    "i \\cdot a \\cdot (\\Psi(x_{k+1}, t_n) - 2 \\Psi(x_k, t_n) + \\Psi(x_{k-1}, t_n))\\\\\n",
    "&-\n",
    "i \\cdot b \\cdot V(x_k,t_n) \\Psi(x_k,t_n)\n",
    "\\end{aligned}$$\n",
    "\n",
    "Beachte, dass $b$ als Zahlenwert bereits \"festgezurrt\" ist und zwar in der Wahl, wie weit zwei Zeitpunkte bei der Berechnung von $\\Psi(x_k, t_{n+1})$, ausgehend von $\\Psi(x_k, t_n)$, auseinander liegen: $\\Delta t = t_{n+1} - t_n$. Insofern macht es durchaus Sinn, $b$ mit in $V$ \"hineinzuziehen\" zu $V_b(x_k, t_n) = b \\cdot V(x_k,t_n)$. Dann wird $V_b(x_k,t_n)$ praktischerweise einheitenlos ($[V_b] = 1$, $V_b(x_k,t_n)$ ist eine reelle Zahl), so wie auch $a$ einheitenlos ist.\n",
    "\n",
    "Bei $a$ gilt ähnliches in Bezug auf $\\Delta x$ (das ebenso \"festgezurrt\" ist), jedoch bleibt der Bezug zur Masse $m$, die verändert werden kann: $a$ ist umgekehrt proportional zur Masse, $a \\sim 1/m$.\n",
    "\n",
    "Wenn einem die exakten physikalischen Werte von $a$ und $b$ wichtig sind, dann kann man das in einer Simulation der Wellenfunktion berücksichtigen. Wenn Sie ein Gefühl für die Größenordnungen bekommen wollen, in der sich Masse, Zeit- und Raumauflösung bewegen, hilft Ihnen ein Blick auf Wikipedia zu [atomaren Einheiten](https://de.wikipedia.org/wiki/Atomare_Einheiten).\n",
    "\n",
    "Kommt es einem nur auf die qualitativen Verhältnisse an, kann man bei gegebenem $V_b(x_k,t_n)$ den Wert für $a$ durch $m$ parametrisierbar lassen, um den Effekt einer Änderung der Masse nachzuvollziehen. Je größer die Masse wird, desto kleiner wird $a$.\n",
    "\n",
    "$$\\begin{aligned}\n",
    "\\Psi(x_k,t_{n+1})\n",
    "&= \\Psi(x_k, t_n)\\\\\n",
    "&+\n",
    "i \\cdot a \\cdot (\\Psi(x_{k+1}, t_n) - 2 \\Psi(x_k, t_n) + \\Psi(x_{k-1}, t_n))\\\\\n",
    "&-\n",
    "i \\cdot V_b(x_k,t_n) \\Psi(x_k,t_n)\n",
    "\\end{aligned}$$\n",
    "\n",
    "Die Wellenfunktion stellt sich als reines \"Spiel\" mit komplexen Zahlen heraus. Das ist so zu interpretieren, dass die Wellenfunktion eine Information eines Quantenphänomens in Raum und Zeit darstellt."
   ]
  },
  {
   "cell_type": "markdown",
   "metadata": {},
   "source": [
    "## Wahrscheinlichkeitsdichtefunktion\n",
    "\n",
    "Die Wellenfunktion hat -- wenn ich mir erlauben darf, das so auszudrücken -- ein recht lebendiges Eigenleben. Sie beschreibt den Motor eines Quantenphänomens, der -- betrachtet man Real- und Imaginärteile der Wellenfunktion -- beständig in Bewegung bleibt. Entscheidend und von empirischer Relevanz ist jedoch etwas anderes: die aus der Wellenfunktion abgeleitete Dichtefunktion der Wahrscheinlichkeit $|\\Psi(x,t)|^2$. Mit der Wahrscheinlichkeitsdichtefunktion, kurz WDF (engl. _Probability Density Function_, PDF), ist beantwortbar, mit welcher Wahrscheinlichkeit sich das durch die Wellenfunktion beschriebene Quantenphänomen materialisiert. Ich habe hier bewusst das Wort \"materialisiert\" gewählt und meine damit: Wenn ich mit dem Quantenphänomen zu einem bestimmten Zeitpunkt in einem Raumbereich in dem Sinne interagiere, dass ich es befrage, ob da was zu diesem Zeitpunkt in dem Bereich \"ist\", dann antwortet es mit einer gewissen Wahrscheinlichkeit mit einem \"Ja\" oder einem \"Nein\". Im Moment der Befragung schlägt das Quantenphänomen unmittelbar (instantan) um in ein materielles, klassiches Phänomen, es zeigt sich als Teilchen. Das Teilchen befindet sich an dem gewählten Ortsbereich zu dem Zeitpunkt mit der \"Ja\"-Wahrscheinlichkeit genau dort -- oder eben nicht, und es ist dann mit der Nein-Wahrscheinlichkeit außerhalb des Bereichs zu finden.\n",
    "\n",
    "Mit dieser instantanen Materialisierung hört die Wellenfunktion auf, als Motor und somit als Mittel der Vorhersage einer Aufenthaltswahrscheinlichkeit sinnhaft zu sein. Es wäre also nicht ganz richtig zu sagen, dass aus der Welle ein Teilchen wird. Die komplex-zahlige Wellenfunktion ist nur der Motor für ein Vorhersagemodell, dass im Moment der Befragung seine Gültigkeit verliert. Die Wellenfunktion trägt eine Information, die die Grundlage für die WDF ist, die eine Prädiktion (Vorhersage) zur Wahrscheinlichkeit erlaubt, würde man die Materialisierungsfrage stellen.\n",
    "\n",
    "Man kann sich das so vorstellen, als ob die Wellenfunktion auf einer Art Kochfeld eines Gasherds einen Vorgang beschreibt, der als WDF eine Vorhersage erlaubt, wann in einem Bereich der Herdplatte eine Flamme zündet. In dem Moment, in dem ich mit meinem Finger das Kochfeld berühre, zündet das Kochfeld an einer der vielen Gasdüsen eine Flamme. Basierend auf der Wellenfunktion kann ich mithilfe der WDF berechnen, mit welcher Wahrscheinlichkeit ich mir den Finger an der Flamme verbrennen werde.\n",
    "\n",
    "Das Vorstellungsbild hat Haken, geht aber dennoch in die richtige Richtung: Eine Flamme fühlt man nicht nur, man sieht sie auch. Sie müssen sich den Finger als \"blind\" vorstellen, der auch keine Wärme spürt, sondern lediglich ein Schmerzgefühl für Feuer hat. Ihr Finger ist ein \"Flammen-Fühler\", und er muss erst in das Medium des Quantenphänomens \"eintauchen\", d.h. er muss seine Existenz mit der Existenz des Kochfelds in einen deartigen Bezug bringen, dass beides aufeinander reagiert. Irgendwas existiert nun, das meinen Finger den Flammen-Schmerz fühlen lassen kann, weshalb ich dieses etwas \"Flamme\" nenne. Entweder zufällig an dem Ort, wo ich zuerst \"hingefasst\" habe oder der Schmerz wartet nun woanders -- an diesem Woanders ist nun eine Flamme (bzw. etwas, was meinen Flammen-Sensorfinger eine Flamme spuren lässt), die nun nach gänzlich anderen Strategien zu suchen ist. Der Mechanismus einer gezündeten Flamme ist ein anderer als der, bis es zur Zündung kommt."
   ]
  },
  {
   "cell_type": "markdown",
   "metadata": {},
   "source": [
    "**Danksagung**\n",
    "\n",
    "Ich hatte befürchtet, dass ich meine Studierenden mit der Aufarbeitung zu Schrödingers Wellengleichung überfordern würde. Schließlich ist keiner von uns Physiker/in, und wir sind auch keine Mathematik-Expert/innen. Doch meine Studierenden haben mich im WS2022/23 auf beeindruckende Weise eines Besseren belehrt. Sie sind furchtlos und neugierig an die Auseinandersetzung mit dem Formelwerk herangegangen. Meine Ausarbeitung ist von ihren Unterlagen inspiriert. In alphabetischer Reihenfolge geht mein Dank an Arthur, Cedric, Jannis, Jessica, Lucas, Maxim und Ratchanon; wenn ich die Erlaubnis bekomme, werde ich die Nachnamen ergänzen."
   ]
  },
  {
   "cell_type": "markdown",
   "metadata": {},
   "source": []
  }
 ],
 "metadata": {
  "kernelspec": {
   "display_name": "Python 3.10.8 64-bit",
   "language": "python",
   "name": "python3"
  },
  "language_info": {
   "name": "python",
   "version": "3.10.8"
  },
  "orig_nbformat": 4,
  "vscode": {
   "interpreter": {
    "hash": "b0fa6594d8f4cbf19f97940f81e996739fb7646882a419484c72d19e05852a7e"
   }
  }
 },
 "nbformat": 4,
 "nbformat_minor": 2
}
