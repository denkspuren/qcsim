{
 "cells": [
  {
   "cell_type": "markdown",
   "metadata": {},
   "source": [
    "# Die Simulation von Schrödingers Wellengleichung\n",
    "\n",
    "Wenn man Schrödingers Wellengleichung simulieren möchte, muss man sich dem mathematischen Verständnis der Gleichung insoweit nähern, dass man sie in Programmcode übersetzen kann. Es geht bei dieser Hinführung nicht darum, die Wellengleichung von Schrödinger so zu erklären, dass damit eine Physikerin oder ein Physiker zufrieden wäre. Aber ich möchte erreichen, dass Sie die Verbindung von mathematisch modellierter Physik und der Möglichkeit zur Simulation der Formel herstellen können. Die Simulation von Schrödingers Wellengleichung beschert einem faszinierende und schöne Bilder einer quantenmechanischen Modellvorstellung.\n",
    "\n",
    "> HINWEIS: THIS IS WORK IN PROGRESS"
   ]
  },
  {
   "cell_type": "markdown",
   "metadata": {},
   "source": [
    "## Schrödingers Wellengleichung\n",
    "\n",
    "Schrödinger beschreibt ein System aus Quanten als Wellengleichung. Die Wellenfunktion $\\Psi(x, t)$ steht für einen quantenmechanischen Zustand im Raum im Zeitverlauf; hier ist die Annahme, dass der Raum eindimensional sei. Die Wellenfunktion $\\Psi$ ordnet jedem Punkt $x$ im Raum zu jedem Zeitpunkt $t$ einen komplexen Zahlenwert zu. Im einfachsten, nicht-relativistischen Fall sieht die Wellengleichung für die eindimensionale Wellenfunktion wie folgt aus:\n",
    "\n",
    "$$i\\hbar\\frac{\\partial}{\\partial t} \\Psi(x,t) = \\left [ - \\frac{\\hbar^2}{2m}\\frac{\\partial^2}{\\partial x^2} + V(x,t)\\right ] \\Psi(x,t)$$\n",
    "\n",
    "Mit $m$ wird die Masse des durch die Wellengleichung beschriebenen Partikels, z.B. eines Atoms oder eines Photons (auch: Lichtteilchen oder Lichtquantum) erfasst. Ein Photon hat zwar keine \"Ruhemasse\" im traditionellen Sinn, was aber irrelevant ist, weil es ein Photon in Ruhe nicht gibt und ihm aufgrund der Äquivalenz von Energie und Masse ($E = m\\cdot c^2$) über eine \"Ruheenergie\" eine Masse zugeschrieben wird. (Siehe hierzu die Anmerkung zur [Ruhemasse](https://de.wikipedia.org/wiki/Photon#cite_note-masse0-1) auf Wikipedia.)\n",
    "\n",
    "Das Symbol $\\hbar$ steht für das [reduzierte Plancksche Wirkungsquantum](https://de.wikipedia.org/wiki/Plancksches_Wirkungsquantum#Reduziertes_Plancksches_Wirkungsquantum) $\\hbar = h/2\\pi = 6{,}582\\,119\\,569 \\ldots \\cdot 10^{-16}\\,e\\mathrm{V}\\mathrm{s}$. Das Plancksche Wirkungsquantum $h$ modelliert als Konstante den Zusammenhang, dass die Energie $E$ eines Photons oder Quantums nur in diskreten Vielfachen der Frequenz $f$ auftreten kann, es gilt $E = h\\cdot f$.\n",
    "\n",
    "Das Symbol $i$ steht für die imaginäre Einheit mit $i^2 = -1$ bzw. $i = \\sqrt{-1}$.\n",
    "\n",
    "Mit $V(x,t)$ wird die im Raum und in der Zeit veränderliche potenzielle Energie (klassisch auch Lageenergie genannt) in Form eines [Skalarpotenzials](https://en.wikipedia.org/wiki/Scalar_potential) beschrieben. Damit wird die Umgebung modelliert, in der sich die Wellenfunktion \"aufhält\" oder ereignet. Ein einfaches Beispiel, siehe nachstehendes Bild (Quelle: [Wikipedia](https://commons.wikimedia.org/wiki/File:Potential_energy_well.svg)), ist ein sogenannter Potenzialtopf, der ein Partikel \"gefangen\" hält. Nach der klassischen Mechanik kann ein Partikel mit einer Energie $E$, den Bereich zwischen $x_1$ und $x_2$ nicht verlassen. In den Quantentheorie gilt das so nicht. Ein Quantum kann eine Potenzialbarriere, die sich ihm in den Weg stellt, trotz geringerer Energie \"tunneln\" und damit überwinden.\n",
    "\n",
    "![Beispielhaftes Potenzial $V(x)$ ohne Abhängigkeit von der Zeit $t$](https://upload.wikimedia.org/wikipedia/commons/thumb/c/c5/Potential_energy_well.svg/320px-Potential_energy_well.svg.png)\n",
    "\n",
    "Mit $\\frac{\\partial}{\\partial t}$ ist die partielle Ableitung nach der Zeit gemeint und mit $\\frac{\\partial^2}{\\partial x^2}$ die zweifache partielle Ableitung nach dem Ort. Bei der [partiellen Ableitung](https://de.wikipedia.org/wiki/Partielle_Ableitung) wird bei einer Funktion mit mehreren Parametern die Ableitung nur nach dem gegebenen Parameter berechnet, die anderen Parameter werden als Konstante betrachtet. Partielle Ableitungen sind als Operatoren zu verstehen, die sich auf eine Funktion beziehen. Auf der linken Gleichungsseite ist die Anwendung der Ableitung auf die Wellenfunktion unmittelbar ersichtlich. Auf der rechten Gleichungsseite klärt das gedankliche oder tatsächliche Ausmultiplizieren des Klammerausdrucks die Anwendung der örtlichen Ableitung auf die Wellenfunktion.\n",
    "\n",
    "$$i\\hbar\\frac{\\partial}{\\partial t} \\Psi(x,t) = -\\frac{\\hbar^2}{2m}\\frac{\\partial^2}{\\partial x^2} \\Psi(x,t) + V(x,t) \\Psi(x,t)$$\n",
    "\n",
    "**Einheitencheck:** \n",
    "\n",
    "Das reduzierte Plancksche Wirkungsquantum $\\hbar$ hat die Einheit $[\\hbar] = e\\mathrm{V}\\mathrm{s}$ (Elektronenvoltsekunde). Die linke Gleichungsseite hat die Einheit $[\\hbar/\\partial t]= e\\mathrm{V}\\mathrm{s}/\\mathrm{s} = e\\mathrm{V}$. Ein [Elektronenvolt](https://de.wikipedia.org/wiki/Elektronenvolt) $e\\mathrm{V}$ ist die kinetische Energie, die ein Elektron beim Durchlaufen einer Spannung von einem Volt gewinnt. Der erste Summand auf der rechten Gleichungsseite hat für die Masse $m$ (erinnert sei an $m = E/c^2$) die Einheit $[m] = e\\mathrm{V}/(\\mathrm{m}^2/\\mathrm{s}^2)$. Folglich hat der erste Summand die Einheit $[\\hbar^2/m\\cdot 1/\\partial x^2] = e\\mathrm{V}$. Der Seite Summand hat mit $[V(x,t)] = e\\mathrm{V}$ ebenfalls die gleiche Einheit. $\\Psi(x,t)$ repräsentiert lediglich komplexe Zahlen."
   ]
  },
  {
   "cell_type": "markdown",
   "metadata": {},
   "source": [
    "## Von der Differential- zur Differenzengleichung\n",
    "\n",
    "Die Schrödinger-Gleichung ist eine Differentialgleichung. Zur numerischen Lösung einer Differentialgleichung auf einem Computer ist die Differentialgleichung in eine Differenzengleichung umzuwandeln. Die Wellenfunktion wird nur noch zu zeitdiskreten Momenten $t_n = t_0 + n\\cdot \\Delta t$ betrachtet bzw. an diskreten Ortsstellen $x_n = x_0 + n\\cdot\\Delta x$ für $n\\in\\mathbb{N}$; $\\Delta t$ und $\\Delta x$ sind konstante Intervalle.\n",
    "\n",
    "### Vom inifinitesimal Kleinen zum endlich Kleinen\n",
    "\n",
    "In der Differenzenrechnung ersetzt man die Idee eines infinitesimal kleinen Wertes $h$ ($\\lim_{h \\to 0}$) in der Differentialgleichung durch einen diskreten Wert $\\Delta x$, der zwar klein, aber endlich und von Null verschieden ist ($0 < \\Delta x \\ll 1$).\n",
    "\n",
    "Generell gilt: Die Ableitung einer Funktion $f(x)$ wird $f'(x)$ geschrieben bzw. $\\frac{\\rm d}{{\\rm d}x} f(x)$. Die Ableitung an einer Stelle $x$ ist definiert als\n",
    "\n",
    "$$f'(x) = \\lim_{h \\to 0} \\frac{f(x + h) - f(x)}{h}$$\n",
    "\n",
    "Beim Übergang von $h$ zu einem $\\Delta x$ wird daraus eine Differenzengleichung:\n",
    "\n",
    "$$f'(x) \\approx \\frac{\\Delta}{\\Delta x} f(x) = \\frac{f(x + \\Delta x) - f(x)}{\\Delta x}$$\n",
    "\n",
    "Die zweite Ableitung $f''(x)$ ist die Ableitung von $f'(x)$:\n",
    "\n",
    "$$f''(x) \\approx \\frac{\\Delta}{\\Delta x} f'(x) \\approx \\frac{f'(x + \\Delta x) - f'(x)}{\\Delta x} =\n",
    "\\frac{\n",
    "        \\frac{f(x + \\Delta x + \\Delta x) - f(x + \\Delta x)}{\\Delta x}\n",
    "    - (\n",
    "        \\frac{f(x + \\Delta x) - f(x)}{\\Delta x}\n",
    "    )\n",
    "}{\n",
    "    \\Delta x\n",
    "}\n",
    "$$\n",
    "\n",
    "Es gilt also:\n",
    "\n",
    "$$f''(x) \\approx\n",
    "\\frac{\n",
    "    f(x + 2 \\Delta x) - 2 f(x + \\Delta x) + f(x)\n",
    "}{\n",
    "    \\Delta x \\cdot \\Delta x\n",
    "}\n",
    "$$\n",
    "\n",
    "### Die Wellengleichung in der Veränderung über die Zeit\n",
    "\n",
    "Da man die Wellengleichung im zeitlichen Verlauf betrachten möchte, kann man den Differentialquotienten bezüglich der Zeit durch einen Differenzenquotienten annähern mit\n",
    "\n",
    "$$\\frac{\\partial}{\\partial t} \\Psi(x,t) \\approx \\frac{\\Psi(x, t_n + \\Delta t) - \\Psi(x, t_n)}{\\Delta t}$$\n",
    "\n",
    "Die Wellengleichung lässt sich umformulieren als Berechnung von $\\Psi$ zum neuen Zeitpunkt $t_{n+1} = t_n + \\Delta t$ aus dem vorherigen $\\Psi$ zum Zeitpunkt $t_n$; beachte, dass $1/i = -i$:\n",
    "\n",
    "$$\\Psi(x,t_{n+1}) = \\Psi(x, t_n) + i\\frac{\\hbar}{2m}\\frac{\\partial^2}{\\partial x^2} \\Psi(x,t_n) \\Delta t - \\frac{i}{\\hbar} V(x,t_n) \\Psi(x,t_n) \\Delta t$$\n",
    "\n",
    "### Die Wellengleichung in der Veränderung über den Ort\n",
    "\n",
    "\n"
   ]
  },
  {
   "cell_type": "markdown",
   "metadata": {},
   "source": [
    "### Baustelle und Resterampe\n",
    "\n",
    "Die Ableitung einer Funktion $f(x)$ wird $f'(x)$ geschrieben bzw. $\\frac{\\rm d}{{\\rm d}x} f(x)$. Die Ableitung an einer Stelle $x$ ist definiert als\n",
    "\n",
    "$$f'(x) = \\lim_{h \\to 0} \\frac{f(x + h) - f(x)}{h}$$\n",
    "\n",
    "$$f'(x) = \\frac{\\Delta}{\\Delta x} f(x) = \\lim_{\\Delta x \\to 0} \\frac{f(x + \\Delta x) - f(x)}{\\Delta x}$$\n",
    "\n",
    "Die Ableitung einer Funktion $\\frac{\\rm d}{{\\rm d}x}f(x)$, in der Kurzform geschrieben als $f'(x)$, ist definiert als\n",
    "\n",
    "$$f'(x) = \\lim_{h \\to 0} \\frac{f(x + h) - f(x)}{h}$$\n",
    "\n"
   ]
  },
  {
   "cell_type": "markdown",
   "metadata": {},
   "source": [
    "**Danksagung**\n",
    "\n",
    "Ich hatte befürchtet, dass ich meine Studierenden mit der Aufarbeitung zu Schrödingers Wellengleichung überfordern würde. Schließlich ist keiner von uns Physiker/in, und wir sind auch keine Mathematik-Expert/innen. Doch meine Studierenden haben mich im WS2022/23 auf beeindruckende Weise eines Besseren belehrt. Sie sind furchtlos und neugierig an die Auseinandersetzung mit dem Formelwerk herangegangen. Meine Ausarbeitung ist von ihren Unterlagen inspiriert. In alphabetischer Reihenfolge geht mein Dank an Arthur, Cedric, Jannis, Jessica, Lucas, Maxim und Ratchanon; wenn ich die Erlaubnis bekomme, werde ich die Nachnamen ergänzen."
   ]
  },
  {
   "cell_type": "markdown",
   "metadata": {},
   "source": []
  }
 ],
 "metadata": {
  "kernelspec": {
   "display_name": "Python 3.10.8 64-bit",
   "language": "python",
   "name": "python3"
  },
  "language_info": {
   "name": "python",
   "version": "3.10.8"
  },
  "orig_nbformat": 4,
  "vscode": {
   "interpreter": {
    "hash": "b0fa6594d8f4cbf19f97940f81e996739fb7646882a419484c72d19e05852a7e"
   }
  }
 },
 "nbformat": 4,
 "nbformat_minor": 2
}
