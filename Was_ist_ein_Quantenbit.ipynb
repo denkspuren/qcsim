{
  "nbformat": 4,
  "nbformat_minor": 0,
  "metadata": {
    "colab": {
      "name": "Was ist ein Quantenbit.ipynb",
      "provenance": [],
      "collapsed_sections": []
    },
    "kernelspec": {
      "name": "python3",
      "display_name": "Python 3"
    },
    "language_info": {
      "name": "python"
    }
  },
  "cells": [
    {
      "cell_type": "markdown",
      "source": [
        "# Was ist ein Qubit?\n",
        "\n",
        "Das Wissen kurz gefasst:\n",
        "\n",
        "* Ein klassisches Bit ist entweder 0 oder 1\n",
        "* Das Auslesen eines Bit-Werts verändert den Wert nicht\n",
        "* Ein Qubit ist eine Überlagerung (Superposition) von 0 und 1, genauer $|\n",
        "0\\rangle$ und $|1\\rangle$\n",
        "* Man schreibt $|0\\rangle = \\begin{bmatrix} 1 \\\\ 0 \\end{bmatrix}$ und $|1\\rangle =\\begin{bmatrix} 0 \\\\ 1 \\end{bmatrix}$\n",
        "* Für Qubits wird die Braket-Notation verwendet: $\\langle bra| \\cdot |ket\\rangle = \\langle bra | ket \\rangle$\n",
        "* Kets sind Spaltenvektoren, Bras Zeilenvektoren\n",
        "* Ein Qubit ist definiert als  $|q\\rangle = a\\cdot|0\\rangle + b\\cdot |1\\rangle$ mit $a, b \\in \\mathbb{C}$,\n",
        "* ... wobei die Normierungsbedingung gilt: $|a|^2 + |b|^2 = 1$\n",
        "* In Polarschreibweise gilt $a=r_a \\cdot e^{i\\alpha}$ und $b = r_b \\cdot e^{i\\beta}$ \n",
        "* Das \"Auslesen\" eines Qubits $|q\\rangle$ ist nur mit einem anderen Qubit $|x\\rangle$ möglich\n",
        "* Die Interaktion mit $|x\\rangle$ verändert den Zustand des Qubits $|q\\rangle$\n",
        "* Mit der Wahrscheinlichkeit $p(|x\\rangle) = |\\langle x | q \\rangle|^2$ nimmt $|q\\rangle$ den Zustand $|x\\rangle$ ein,\n",
        "* ... und mit $1 - p(|x\\rangle)$ den zu $|x\\rangle$ orthogonalen Zustand\n",
        "* Beispiel für $|x\\rangle = |0\\rangle$ bzw. $|1\\rangle$: $p(|0\\rangle) = |a|^2$ und $p(|1\\rangle) = |b|^2$\n",
        "* Aufgrund der Normierungsbedingung gilt $p(|0\\rangle) + p(|1\\rangle) = 1$\n",
        "* Man kann diese Wahrscheinlichkeitsverhältnisse bildlich darstellen\n",
        "* Aus $|a|^2 + |b|^2 = 1$ folgt auch $r_a^2 + r_b^2 = 1$ (siehe Polarschreibweise)\n",
        "* D.h., aus Quadrat- oder Kreisdarstellungen sind $p(|0\\rangle)$ und $p(|1\\rangle)$ ablesbar\n",
        "* In Kreisbildern sind zusätzlich die Phasen $\\alpha$ und $\\beta$ darstellbar\n",
        "* In Quadratbildern ist nur die _relative_ Phase $\\theta = \\alpha - \\beta$ darstellbar\n",
        "* Ein Qubit mit dem Quantenzustand $|\\psi\\rangle = e^{j\\gamma}|q\\rangle$ ist von $|q\\rangle$ nicht unterscheidbar\n",
        "* Man nennt $\\gamma$ ($0 \\leq \\gamma < 2\\pi$) die _globale_ Phase eines Quantenzustands\n",
        "* Benötigte Mathe-Kenntnisse: Vektor- und Matrizenrechnung mit komplexen Zahlen"
      ],
      "metadata": {
        "id": "YSPcP6ODPFwK"
      }
    },
    {
      "cell_type": "markdown",
      "source": [
        "> Da als Lehr- und Lernmaterial gedacht, habe ich diese Inhalte unter die _Creative Commons_-Lizenz [CC BY-NC-SA 4.0](https://creativecommons.org/licenses/by-nc-sa/4.0/deed.de) gestellt. Kurz gesagt: Sie dürfen die Inhalte bearbeiten und teilen, sofern Sie mich als Urheber nennen, die Verwertung nicht kommerziell ist und Sie das Werk unter die gleiche Lizenzbedingung stellen. Ich freue mich, wenn Sie mir Korrekturen, Verbesserungen oder Richtigstellungen per Email zusenden; ich nenne Sie dann namentlich am Ende des Dokuments. Ebenso sind Vorschläge aller Art willkommen.\n",
        ">\n",
        "> -- [Dominikus Herzberg](https://www.thm.de/mni/dominikus-herzberg), Technische Hochschule Mittelhessen\n",
        ">\n",
        ">![image](https://licensebuttons.net/l/by-nc-sa/3.0/88x31.png)"
      ],
      "metadata": {
        "id": "f6gJR0M7RiM2"
      }
    },
    {
      "cell_type": "markdown",
      "metadata": {
        "id": "djXblVCdSDNh"
      },
      "source": [
        "## Vom klassischen Bit zum Qubit\n",
        "\n",
        "Ein klassisches Bit $b \\in \\mathbb{B}$ repräsentiert entweder den Wert 0 oder den Wert 1, $\\mathbb{B} = \\{0, 1\\}$. Die Werte schließen sich gegenseitig aus: Ein Bit hat entweder den Zustand 0 oder den Zustand 1.\n",
        "\n",
        "Dieser gegenseitige Ausschluss gilt auch in der Quantenwelt, aber auf andere Weise. Die klassischen Bitwerte werden mit $|0\\rangle$ und $|1\\rangle$ als zwei orthogonale, d.h. sich zwar gegenseitig ausschließende Werte dargestellt, die sich aber dennoch kombinieren lassen. Der Clou ist, $|0\\rangle$ und $|1\\rangle$ als [Orthonormalbasis](https://de.wikipedia.org/wiki/Orthonormalbasis) eines zweidimensionalen Vektorraums zu verstehen:\n",
        "\n",
        "$$\n",
        "|0\\rangle = \\begin{bmatrix} 1 \\\\ 0 \\end{bmatrix} \\, \\, \\, \\, |1\\rangle =\\begin{bmatrix} 0 \\\\ 1 \\end{bmatrix}.\n",
        "$$\n",
        "\n",
        "Für die Vektoren einer Orthonormalbasis muss Folgendes gelten:\n",
        "\n",
        "* Die Basisvektoren sind auf die Länge 1 normiert, d.h. die Standardskalarprodukte $|0\\rangle \\cdot |0\\rangle = 1$ und $|1\\rangle \\cdot |1\\rangle = 1$.\n",
        "* Die Basisvektoren sind orthogonal zueinander, d.h. $|0\\rangle \\cdot |1\\rangle = 0$. (Zur Erinnerung, dann gilt automatisch auch $|1\\rangle \\cdot |0\\rangle = 0$)\n",
        "\n",
        "(Die Gültigkeit der beiden Bedingungen können Sie per Hand überprüfen, wenn Sie Ihre Kenntnisse der Linearen Algebra auffrischen möchten.)"
      ]
    },
    {
      "cell_type": "markdown",
      "metadata": {
        "id": "-G6pgKOUQj4R"
      },
      "source": [
        "## Qubit-Mathematik: Die Braket-Notation\n",
        "\n",
        "Eckige, runde oder geschweifte Klammern heißen im Englischen _bracket_. Die in der Quantenmechanik verwendete [Dirac-Notation](https://de.wikipedia.org/wiki/Dirac-Notation) heißt auch Bra-Ket-Notation und spielt auf den englischen Begriff _bracket_ an. Ein Vektor in der Schreibweise $\\langle v|$ wird als \"Bra\", und ein Vektor in der Schreibweise $|v\\rangle$ als \"Ket\" bezeichnet.\n",
        "\n",
        "Kets sind hier immer Spaltenvektoren (vertikale Ausrichtung), Bras Zeilenvektoren (horizontale Ausrichtung). Beispiel:\n",
        "\n",
        "$$|0\\rangle = \\begin{bmatrix} 1 \\\\ 0 \\end{bmatrix}\\,\\,\\,\\,\\langle 0| = \\begin{bmatrix} 1 & 0 \\end{bmatrix}$$\n",
        "\n",
        "<details>\n",
        "  <summary>Anmerkung zum Gleichheitszeichen</summary>\n",
        "Auf Wikipedia finden Sie zur Dirac-Notation den Hinweis, dass ein Bra ein anderes mathematisches Objekt als ein Zeilenvektor ist und ein Ket ein anderes mathematisches Objekt als ein Spaltenvektor ist. Mathematiker nehmen es nicht weniger genau als wir Informatiker*innen mit Objekten. Streng genommen darf man hier also kein Gleichheitszeichen verwenden. Im Kontext unserer anwendungsbezogenen Betrachtungen dürfen wir das jedoch tun.\n",
        "</details>\n",
        "\n",
        "Das Skalarprodukt eines Bra mit einem Ket wird als Bra-Ket geschrieben. Das kann man sich einfach merken.\n",
        "\n",
        "$$\\langle bra| \\cdot |ket\\rangle = \\langle bra | ket \\rangle$$\n",
        "\n",
        "Abgesehen von diesen notationellen Vereinbarungen gilt alles, was Sie in der linearen Algebra gelernt haben. Allerdings muss man die Verwendung von komplexen Zahlen auf dem Schirm haben:\n",
        "\n",
        "Eine komplexe Zahl $z = x + iy = re^{i\\theta}$ hat als Konjugat $z^* = x - iy = re^{-i\\theta}$; es gilt $z^* z = r^2$.\n",
        "\n",
        "Ein Ket lässt sich über Transposition in ein Bra wandeln und umgekehrt. Aber aufgepasst: Bei der Transposition werden die komplexen Zahlen konjugiert.\n",
        "\n",
        "$$\\begin{bmatrix} \\alpha \\\\ \\beta \\end{bmatrix}^T = \\begin{bmatrix} \\alpha^* & \\beta^* \\end{bmatrix}\n",
        "\\,\\,\\mathrm{bzw.}\\,\\,\n",
        "\\begin{bmatrix} \\alpha & \\beta \\end{bmatrix}^T = \\begin{bmatrix} \\alpha^* \\\\ \\beta^* \\end{bmatrix}\n",
        "$$\n",
        "\n",
        "Das kann man generell und verkürzt notieren als\n",
        "\n",
        "$$|v\\rangle^T = \\langle v^*|\n",
        "\\,\\,\\mathrm{und}\\,\\,\n",
        "\\langle v|^T = |v^*\\rangle$$."
      ]
    },
    {
      "cell_type": "markdown",
      "source": [
        "## Das Qubit als normierte Superposition von Null und Eins\n",
        "\n",
        "Der Zustand eines Qubits, sein sogenannter Zustandsvektor (_state vector_), ist definiert als eine Superposition (Überlagerung) der Basisvektoren $|0\\rangle$ und $|1\\rangle$, wobei $a$ und $b$ [komplexe Zahlen](https://de.wikipedia.org/wiki/Komplexe_Zahl) sind:\n",
        "\n",
        "$$|q\\rangle = a\\cdot|0\\rangle + b\\cdot |1\\rangle = \\begin{bmatrix} a \\\\ b \\end{bmatrix} \\,\\,\\,\\mathrm{mit}\\,\\,\\,a, b \\in \\mathbb{C}$$\n",
        "\n",
        "Zudem gilt die Normierungsbedingung, dass\n",
        "\n",
        "$$|a|^2 + |b|^2 = 1$$\n",
        "\n",
        "Der Zustand eines Qubits ist stets ein normierter Vektor in einem zweidimensionalen, komplexen Vektorraum. Dieser Vektorraum beschreibt einen sogenannten [Hilbertraum](https://de.wikipedia.org/wiki/Hilbertraum) (\"Raum\", nicht \"Traum\" ;-). Aber das nur am Rande. Auf sich wirken lassen muss man die Tatsache, dass sich hier die lineare Algebra für einen zweidimensionalen Vektorraum mit komplexen Zahlen \"vermischt\".\n",
        "\n",
        "Erschien das Qubit eben noch leicht vorstellbar als ein Vektor in einem zweidimensionalen Vektorraum, so implodiert unsere Vorstellungskraft bei zwei komplexzahligen Vektordimensionen. Da man sich _eine_ komplexzahlige Dimension als Ebene aus Real- und Imaginärteil vorstellen kann, spannen nun zwei solcher Ebenen einen Raum mit vier Dimensionen auf."
      ],
      "metadata": {
        "id": "VEjNKtfzQRlz"
      }
    },
    {
      "cell_type": "markdown",
      "metadata": {
        "id": "DyTSby4mfTCe"
      },
      "source": [
        "## Messung als Interaktion mit einem Qubit\n",
        "\n",
        "Das, was wir die Messung eines Qubits $q$ nennen, ist eine besondere Form der Interaktion zweier Qubits $q$ und $x$. Beide Qubits sind zwei gleichberechtigte Partner in dieser Interaktion. Das Ergebnis der Interaktion ist, dass $q$ bezüglich $x$ mit der Wahrscheinlichkeit $p(|x\\rangle)$ den Zustand $|x\\rangle$ annimmt bzw. mit der Restwahrscheinlichkeit $1 - p(|x\\rangle)$ den zu $|x\\rangle$ orthogonalen Zustand annimmt.\n",
        "\n",
        "$$p(|x\\rangle) = |\\langle x | q \\rangle|^2$$\n",
        "\n",
        "Da üblicherweise die Orthonormalbasis $|0\\rangle$ und $|1\\rangle$ für Messungen zum Einsatz kommt, ergeben sich folgende Wahrscheinlichkeiten:\n",
        "\n",
        "$$p(|0\\rangle) = |\\langle 0 | q \\rangle|^2\n",
        "\\,\\,\\,\\mathrm{und}\\,\\,\\,\n",
        "p(|1\\rangle) = |\\langle 1 | q \\rangle|^2\n",
        "$$\n",
        "\n",
        "Es ergibt sich\n",
        "\n",
        "$$p(|0\\rangle) = | \\begin{bmatrix}1 & 0\\end{bmatrix} \\begin{bmatrix}a \\\\ b\\end{bmatrix}|^2 = |a|^2 = r_a^2\n",
        "$$\n",
        "\n",
        "und\n",
        "\n",
        "$$p(|1\\rangle) = | \\begin{bmatrix}0 & 1\\end{bmatrix} \\begin{bmatrix}a \\\\ b\\end{bmatrix}|^2 = |b|^2 = r_b^2\n",
        "$$\n",
        "\n",
        "Wie wir schon wissen, ist $r_a^2 + r_b^2 = 1$, so dass gilt:\n",
        "\n",
        "$$p(|0\\rangle) + p(|1\\rangle) = 1$$\n",
        "\n",
        "Ein Quantenrechner ist seinem Wesen nach ein probabilistischer, d.h. Wahrscheinlichkeiten verarbeitender Rechner. Aber eben nicht nur. Es kommen einige Besonderheiten von Quanten dazu.\n",
        "\n",
        "> Frage: Was passiert eigentlich mit dem Qubit $|x\\rangle$ bei der Messung? Die Qubits wissen ja nicht, wer hier wen misst. Was ergibt sich für $|\\langle q | x \\rangle|^2$? Finden Sie eine Bestätigung für diese gegenseitige Beeinflussung zweier interagierender Quantenbits in der Literatur? "
      ]
    },
    {
      "cell_type": "markdown",
      "metadata": {
        "id": "GJxyPtFgIITG"
      },
      "source": [
        "## Visualisierung der Normierungsbedingung\n",
        "\n",
        "Mit $a$ und $b$ in den Polarformen $a=r_a \\cdot e^{i\\alpha}$ und $b = r_b \\cdot e^{i\\beta}$ ($0\\leq r_a \\leq 1$ und $0\\leq r_b \\leq 1$) drückt sich die Normierung darin aus, dass die Summe der quadrierten Radien der beiden komplexen Zahlen die Fläche 1 hat:\n",
        "\n",
        "$$r_a^2 + r_b^2 = 1$$\n",
        "\n",
        "Man kann sich diese Normierungsbegingung auf zwei verschiedene Weisen bildlich verdeutlichen, siehe nachfolgende Darstellung: entweder durch ein Quadrat oder durch zwei Kreise.\n",
        "\n",
        "![image](https://docs.google.com/drawings/d/e/2PACX-1vTAe7lUgz68VSfn2Jk80RzDFINp7_N_5gqPuV98hBWZLOj6LKJfkB1zijRo7_5duy_0p60aqGNhyuG7/pub?w=735&h=518)\n",
        "\n",
        "Das erste Quadratbeispiel oben links im Bild zeigt die Flächenanteile $r_a^2 = 1/4$ und $r_b^2=3/4$ in einem Quadrat der Fläche 1. Wenn man einen Flächenanteil wie z.B. $r_a^2$ ebenfalls als Quadrat darstellt, dann kann man leicht die Größe von $r_a$ über die Seitenlänge ablesen oder abmessen, hier $r_a = 1/2$. Der Wert für $r_b$ muss berechnet werden, er ist optisch nicht aus dem Bild ablesbar: $r_b = \\sqrt{3/4} = \\sqrt{3}/2\\approx 0.87$. Die Werte für $r_a$ und $r_b$ sind in ihrer gegenseitigen Abhängigkeit sehr schwer intuitiv erfassbar, ganz im Gegensatz zu den Flächen.\n",
        "\n",
        "Im zweiten Beispiel (oben rechts) ist das Einheitsquadrat diagonal in zwei gleich große Flächenanteile aufgeteilt, d.h. $r_a^2 = r_b^2 = 1/2$, folglich ist $r_a = r_b = 1/\\sqrt{2}$.\n",
        "\n",
        "Eine andere Alternative bietet die Darstellung im Einheitskreis (unten im Bild). Zu jedem Wert entsteht ein Kreis: Es wird ein Kreis mit dem Radius von $r_a$ und ein Kreis mit dem Radis $r_b$ gezeichnet. Die Summe der Kreisflächen entspricht der Fläche des Einheitskreises, d.h. die jeweiligen Flächen erfassen links wie rechts die Hälfte der Fläche des Einheitskreises. Dass hier $\\pi$ als konstanter Faktor hinzukommt, stört nicht und ändert nichts an den Flächenverhältnissen. Bei der Kreisdarstellung ist es etwas schwieriger, die Flächenanteile in Abhängigkeit vom Radius einzuschätzen -- das erfordert etwas Übung."
      ]
    },
    {
      "cell_type": "markdown",
      "metadata": {
        "id": "EskO0qgJR4k-"
      },
      "source": [
        "## Die Darstellung der Phase\n",
        "\n",
        "Die Darstellung mit dem Einheitskreis hat einen großen Vorteil: Zu den Radien $r_a$ und $r_b$ können zusätzlich die Phasen $\\alpha$ und $\\beta$ in die Darstellung übernommen werden. Wie man sieht, ändern die Phasen nichts an der Normierung, wie das folgende Bild zeigt. Die im Bild gewählte Phase von $\\alpha = \\pi/4 = 45°$ ist unabhängig von $\\beta = 0°$. Winkel werden, wie im Einheitskreis üblich, von der horizontalen Linie gegen den Uhrzeigersinn abgetragen.\n",
        "\n",
        "![image](https://docs.google.com/drawings/d/e/2PACX-1vT6tez62nIPeiH4ivzpmKkEUfNuis8P111gcfzbJMGqFvHHh1HYvoHbnDjozCsCb5Zpjk1KTHXO3fiH/pub?w=802&h=268)\n",
        "\n",
        "Anders ist es bei der Darstellung mit dem Einheitsquadrat. Die Kombination der Flächenwerte erlaubt keine separate Darstellung der Phasen. Allerdings kann man die Phasendifferenz bildlich unterbringen: $\\theta = \\alpha - \\beta$. Um im Bild zu verdeutlichen gegenüber welcher Kante die Winkeldrehung erfolgt, ist die \"Bodenkante\" etwas dicker eingezeichnet.\n",
        "\n",
        "Die Kreisdarstellung enthält die vollständige Information eines Quantenbits in seinen komplexen Anteilen von Betrag und Winkel für die Komponenten $|0\\rangle$ und $|1\\rangle$. Die Normierungsbedingung ist über die Flächensumme erfasst und macht somit klar, wie sie die Superposition beeinflusst: Der Radius und damit die Fläche der einen Seite bestimmt, wie groß die Fläche und damit der Radius auf der anderen Seite sein darf -- und umgekehrt. Die Phasen unterliegen keinen solchen wechselseitigen Abhängigkeit.\n",
        "\n",
        "Die Quadratdarstellung büßt an Information ein: die invidivuellen Phasenwerte sind unbekannt, man kann nur den relativen Phasenunterschied aufzeigen, indem man das Quadrat insgesamt rotiert.\n",
        "\n",
        "> Wenn Sie sich daran probieren möchten: Es wäre eine schicke Sache, eine Graphik zur Kreis- oder auch Quadratdarstellung hinzufügen, mit der man sich den beschriebenen Sachverhalt interaktiv klar machen kann."
      ]
    },
    {
      "cell_type": "markdown",
      "metadata": {
        "id": "4Y6QdhJAOHiC"
      },
      "source": [
        "## Wahrscheinlichkeiten, globale und relative Phase\n",
        "\n",
        "Die vorgestellten Abbildungen, die Kreisbilder und das Quadratbild, erlauben es die Wahrscheinlichkeiten abzulesen, mit der ein Qubit bei einer Messung zu einer $|0\\rangle$ oder $|1\\rangle$ wird. Die in den Bildern ausgewiesenen Flächen $r_a^2$ und $r_b^2$ entsprechen den Wahrscheinlichkeiten $p(|0\\rangle)$ und $p(|1\\rangle)$.\n",
        "\n",
        "Was mit Blick auf die Bilder ebenfalls klar wird: Das Wahrscheinlichkeitsergebnis einer Messung ist vollkommen unabhängig von den Phasen $\\alpha$ und $\\beta$. Auch wenn sich das Qubit $|q\\rangle$ und ein anderes Qubit mit gleichen Werten für $r_a$ und $r_b$ aber verschiedenen Winkelwerten messtechnisch nicht unterscheiden lassen, so spielt doch die Phasendifferenz, die relative Phase $\\theta = \\alpha - \\beta$, eine entscheidende Rolle, wenn es um die Verarbeitung eines Qubits durch ein Quantengatter geht. Insofern sind all die Qubits von $|q\\rangle$ nicht zu unterscheiden, die die relative Phase erhalten und deren Zustandsvektor lediglich um den Winkel $\\gamma$ \"gedreht\" erscheint: $e^{j\\gamma}|q\\rangle$. Man nennt $\\gamma$ ($0 \\leq \\gamma < 2\\pi$) die globale Phase eine Qubits. Zwei Qubits, die sich durch eine globale Phase unterscheiden, haben bei einer Messung das gleiche Wahrscheinlichkeitsverhalten.\n",
        "\n",
        "Man kann die globale Phase dazu nutzen, um die Darstellung eines Qubits in der Kreis- oder Quadratform auf eine Normdarstellung zu \"eichen\". Man kann den Quantenzustand $|q\\rangle$ deshalb auch darstellen als einen Quantenzustand $|\\psi\\rangle = e^{-j\\alpha}|q\\rangle$. \n",
        "\n",
        "$$\\psi = e^{-j\\alpha} (r_a e^{j\\alpha}|0\\rangle + r_b e^{j\\beta}|1\\rangle)\n",
        "= r_a|0\\rangle + r_b e^{-j\\theta}|1\\rangle\n",
        "$$\n",
        "\n",
        "Wenn man das mit der Wahrscheinlichkeit für $p(|1\\rangle)$ ausdrücken möchte, wobei $p(|0\\rangle) = 1 - p(|1\\rangle)$ ist, so ergibt sich:\n",
        "\n",
        "$$|\\psi\\rangle = \\sqrt{1-p(|1\\rangle)}\\cdot |0\\rangle\n",
        "+ \\sqrt{p(|1\\rangle)}\\, e^{-j\\theta} \\cdot |1\\rangle\n",
        "$$"
      ]
    },
    {
      "cell_type": "markdown",
      "source": [
        "## Tipps zum Lesen, Hören oder Sehen\n",
        "\n",
        "Eric R. Johnston, Nic Harrigan, Mercedes Gimeno-Segovia (2019). Programming Quantum Computers: Essential Algorithms and Code Samples. Sebastopol, CA: O'Reilly -- _In diesem Buch wird die Kreis-Darstellung verwendet._\n",
        "\n",
        "Bettina Just (2020). Quantencomputing kompakt: Spukhafte Fernwirkung und Teleportation endlich verständlich. Berlin, Heidelberg: Springer Vieweg. https://doi.org/10.1007/978-3-662-61889-9 -- _Meine THM-Kollegin Bettina Just verwendet die Quadrat-Darstellung in ihrem Buch. Sie verzichtet aus Gründen der Anschauung und im Sinn einer verständlichen Einleitung auf komplexe Zahlen._\n",
        "\n",
        "Sabine Hossenfelder: Understanding Quantum Mechanics #4: It's not so difficult!, https://youtu.be/ctXDXABJRtg (8m04s), Abruf: 2022-03-14. -- _Das Video geht kurz und knapp auf die Braket-Notation ein und versucht, die Sorge zu nehmen, dass die Quantenmechanik mathematisch besonders schwer sei. Beachten Sie: Das Video geht um Quantenmechanik, nicht speziell um's Quantencomputing!_"
      ],
      "metadata": {
        "id": "NZMr-MtOezRc"
      }
    },
    {
      "cell_type": "markdown",
      "source": [
        "**Historie**\n",
        "\n",
        "2022-03-15: Online verfügbar: https://colab.research.google.com/drive/1VSGPIrJokaJVGTl5cibjb6Yn5SZgiuIh?usp=sharing"
      ],
      "metadata": {
        "id": "6XarJ9ehZuSJ"
      }
    }
  ]
}