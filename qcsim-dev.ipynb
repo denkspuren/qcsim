{
 "cells": [
  {
   "cell_type": "markdown",
   "metadata": {},
   "source": [
    "# Simulator für Quantenschaltungen"
   ]
  },
  {
   "cell_type": "code",
   "execution_count": 39,
   "metadata": {},
   "outputs": [],
   "source": [
    "%run ./gates.ipynb"
   ]
  },
  {
   "cell_type": "code",
   "execution_count": 40,
   "metadata": {},
   "outputs": [],
   "source": [
    "import math"
   ]
  },
  {
   "cell_type": "markdown",
   "metadata": {},
   "source": [
    "Code ist so gebaut, dass die Mathematik zum Quantencomputing deutlich ersichtlich ist. Ein einzelnes Quantenbit wird als Superpositon der Basisvektoren $|0\\rangle$ (`ZERO`) und $|1\\rangle$ (`ONE`) beschrieben.\n",
    "\n",
    "Besonderheit: Mit `np.array` nutzen wir eine Vektorform, die nicht zwischen Spalten- und Zeilenvektoren unterscheidet."
   ]
  },
  {
   "cell_type": "code",
   "execution_count": 41,
   "metadata": {},
   "outputs": [],
   "source": [
    "ZERO = np.array([1, 0])\n",
    "ONE  = np.array([0, 1])\n",
    "\n",
    "FIFTYFIFTY = 1/math.sqrt(2) * np.array([1, 1])\n",
    "\n",
    "ID2  = np.array([[1, 0],\n",
    "                 [0, 1]])\n",
    "O2   = np.array([[0, 0],\n",
    "                 [0, 0]])"
   ]
  },
  {
   "cell_type": "markdown",
   "metadata": {},
   "source": [
    "## Die Mechanik des Quantencomputings: Das Kronecker-Produkt\n",
    "\n",
    "Das Kronecker-Produkt ist essentiell im Quantencomputing. Es bietet die grundlegende Mechanik an, wie einzelne Quantenbits einerseits einen Quantenzustand initialisieren und wie sich andererseits eine Operation auf Quantenbits im Zustandsraum auswirkt.\n",
    "\n",
    "Die Methode `kronify` bildet die Systematik in der Nutzung des Kronecker-Produkts ab: Es liegt eine geordnete Zusammenstellung von Qubits vor, deren Anzahl durch `no_of_bits` gegeben ist und die von `0` bis `no_of_bits - 1` durchnummeriert sind. Auf die Qubits werden Operationen angewendet, wobei sich eine Operation auf ein oder mehrere aufeinanderfolgende Qubits erstrecken kann. Dazu sind die Operationen, `operations`, als Dictionary zu übergeben. In dem Dictionary wird die Bitstelle angegeben, ab der die Operation wirkt, und die Operation selber. Zudem ist eine `default_operation` anzugeben, die verwendet wird, wenn es zu einer Bitstelle im Dictionary keine explizite Operation gibt."
   ]
  },
  {
   "cell_type": "code",
   "execution_count": 57,
   "metadata": {},
   "outputs": [],
   "source": [
    "def kronify(no_of_bits, operations, default_operation = ZERO):\n",
    "    result = np.array([1])\n",
    "    bit = 0\n",
    "    while (bit < no_of_bits):\n",
    "        operation = operations.get(bit, default_operation)\n",
    "        result = np.kron(result, operation)\n",
    "        bit += int(math.log(operation.shape[0], 2))\n",
    "    return result"
   ]
  },
  {
   "cell_type": "markdown",
   "metadata": {},
   "source": [
    "Mit `kronify` kann zum Beispiel der Zustandsvektor initialisiert werden."
   ]
  },
  {
   "cell_type": "code",
   "execution_count": 58,
   "metadata": {},
   "outputs": [
    {
     "data": {
      "text/plain": [
       "array([0, 0, 0, 0, 1, 0, 0, 0])"
      ]
     },
     "execution_count": 58,
     "metadata": {},
     "output_type": "execute_result"
    }
   ],
   "source": [
    "kronify(3, {0: ONE}, ZERO)"
   ]
  },
  {
   "cell_type": "markdown",
   "metadata": {},
   "source": [
    "Oder man setzt die Matrizen auf, die auf dem Zustandsvektor operieren wird."
   ]
  },
  {
   "cell_type": "code",
   "execution_count": 59,
   "metadata": {},
   "outputs": [
    {
     "data": {
      "text/plain": [
       "array([[1, 0, 0, 0, 0, 0, 0, 0],\n",
       "       [0, 1, 0, 0, 0, 0, 0, 0],\n",
       "       [0, 0, 0, 1, 0, 0, 0, 0],\n",
       "       [0, 0, 1, 0, 0, 0, 0, 0],\n",
       "       [0, 0, 0, 0, 1, 0, 0, 0],\n",
       "       [0, 0, 0, 0, 0, 1, 0, 0],\n",
       "       [0, 0, 0, 0, 0, 0, 0, 1],\n",
       "       [0, 0, 0, 0, 0, 0, 1, 0]])"
      ]
     },
     "execution_count": 59,
     "metadata": {},
     "output_type": "execute_result"
    }
   ],
   "source": [
    "kronify(3, {1: CNOT}, ID2)"
   ]
  },
  {
   "cell_type": "markdown",
   "metadata": {},
   "source": [
    "# Der Zustand eines Quantensystems: `QState`\n",
    "\n",
    "Der Zustand eines Quantensystem, auch Quantenregisters genannt, ist ein Modellvorstellung, die davon abstrahiert, wo sich die Qubits befinden."
   ]
  },
  {
   "cell_type": "code",
   "execution_count": 45,
   "metadata": {},
   "outputs": [],
   "source": [
    "import numpy as np\n",
    "from cmath import isclose, phase, pi, sqrt\n",
    "import math\n",
    "import matplotlib.pyplot as plt\n",
    "import random"
   ]
  },
  {
   "cell_type": "markdown",
   "metadata": {},
   "source": [
    "## Initialisierung eines Quantenregisters\n",
    "\n",
    "* Ein Quantenregister schränkt die Betrachtung auf ausgewählte Qubits ein.\n",
    "* Die Initialisierung geht von einer gegebenen Anzahl `no_of_bits` \"entkoppelter\" Qubits aus\n",
    "* Der initiale Zustand eines jeden Qubits kann durch ein Dictionary (Qubit-Index $\\rightarrow$ zweistelliger Qubit-Vektor) angegeben werden\n",
    "* Der Default-Zustand eines jeden Qubits ist `ZERO`"
   ]
  },
  {
   "cell_type": "code",
   "execution_count": 62,
   "metadata": {},
   "outputs": [],
   "source": [
    "class QState:\n",
    "    def __init__(self, no_of_bits, bit_state = {}, default_state = ZERO):\n",
    "        self.no_of_bits = no_of_bits\n",
    "        self.state = kronify(no_of_bits, bit_state, default_state)"
   ]
  },
  {
   "cell_type": "code",
   "execution_count": 65,
   "metadata": {},
   "outputs": [
    {
     "name": "stdout",
     "output_type": "stream",
     "text": [
      "[1 0 0 0 0 0 0 0]\n",
      "[0 0 0 0 0 0 1 0]\n"
     ]
    }
   ],
   "source": [
    "print(QState(3).state) # Initialisierung: 000 -> 1. Stelle von links\n",
    "print(QState(3, {0:ONE, 1:ONE}).state) # Initialisierung: 110 -> 6. Stelle von links"
   ]
  },
  {
   "cell_type": "markdown",
   "metadata": {},
   "source": [
    "## Gültigkeit eines Quantenzustands\n",
    "\n",
    "Ein Quantenzustand ist gültig, wenn die Summe der Betragsquadrate der Zustandsanteile 1 ergibt."
   ]
  },
  {
   "cell_type": "code",
   "execution_count": 70,
   "metadata": {},
   "outputs": [],
   "source": [
    "class QState(QState):\n",
    "    def isvalid(self):\n",
    "        return isclose(self.state @ np.conjugate(self.state), 1.0)"
   ]
  },
  {
   "cell_type": "markdown",
   "metadata": {},
   "source": [
    "## Zwischenspiel: Darstellung eines Quantenregisters"
   ]
  },
  {
   "cell_type": "code",
   "execution_count": 71,
   "metadata": {},
   "outputs": [],
   "source": [
    "class QState(QState):\n",
    "    def __repr__(self):\n",
    "        repr = f\"{self.__class__.__name__}({self.no_of_bits}) valid = {self.isvalid()}:\"\n",
    "        for i in range(0, self.state.shape[0]):\n",
    "            num = self.state[i]\n",
    "            repr += f\"\\n{i:2d} |{i:0{self.no_of_bits}b}⟩ \"\n",
    "            repr += f\"{num.real if isclose(num.imag, 0.0) else (f'{num.imag}i' if isclose(num.real, 0.0) else f'{num.real} + {num.imag}i')} \"\n",
    "            repr += f\"({abs(num):.4f} * e^{phase(num) / pi * 180.0:.2f}°) \"\n",
    "            repr += f\"{abs(num * num):.2%}\"\n",
    "        return repr\n",
    "    \n",
    "    def show(self):\n",
    "        print(self)\n",
    "        return self\n",
    "    \n",
    "    def plot(self):\n",
    "        names = list(map(lambda x: f'|{x}⟩', range(0, self.state.shape[0])))\n",
    "        values = list(map(lambda x: abs(x), self.state * self.state))\n",
    "        plt.bar(names, values)\n",
    "        plt.suptitle(f'{self.__class__.__name__}({self.no_of_bits})')\n",
    "        plt.show()\n",
    "        return self"
   ]
  },
  {
   "cell_type": "code",
   "execution_count": 72,
   "metadata": {},
   "outputs": [
    {
     "data": {
      "text/plain": [
       "QState(3) valid = True:\n",
       " 0 |000⟩ 0 (0.0000 * e^0.00°) 0.00%\n",
       " 1 |001⟩ 1 (1.0000 * e^0.00°) 100.00%\n",
       " 2 |010⟩ 0 (0.0000 * e^0.00°) 0.00%\n",
       " 3 |011⟩ 0 (0.0000 * e^0.00°) 0.00%\n",
       " 4 |100⟩ 0 (0.0000 * e^0.00°) 0.00%\n",
       " 5 |101⟩ 0 (0.0000 * e^0.00°) 0.00%\n",
       " 6 |110⟩ 0 (0.0000 * e^0.00°) 0.00%\n",
       " 7 |111⟩ 0 (0.0000 * e^0.00°) 0.00%"
      ]
     },
     "execution_count": 72,
     "metadata": {},
     "output_type": "execute_result"
    }
   ],
   "source": [
    "QState(3, {2: ONE})"
   ]
  },
  {
   "cell_type": "markdown",
   "metadata": {},
   "source": [
    "## Anwendung eines Quantengatters\n",
    "\n",
    "* Ein Quantengatter ist als Operator, `operator` zu verstehen\n",
    "* Die Methode `op` setzt die Operation um\n",
    "* Ein Quantengatter wird durch eine Matrix abgebildet\n",
    "* Der Operator wirkt auf $n$ Qubits, die Matrix hat entsprechend die Größe $2^n \\times 2^n$\n",
    "* Mit `bit` ist anzugeben, ab welchem Qubit der Operator auf das angegebene Qubit und möglicherweise folgende Qubits wirkt\n",
    "\n",
    "Wichtig:\n",
    "\n",
    "* Zu jedem Quantengatter gibt es ein Gatter, mit dem die Berechnung rückgängig gemacht werden kann.\n",
    "* Mathematisch heißt das: Die Quantengatter werden durch unitäre Matrizen abgebildet\n",
    "* Physikalisch bedeutet das: Rechnen ohne Energieverlust\n",
    "* Informationstheoretisch heißt das: Rechnen ohne Mitteilung einer Information"
   ]
  },
  {
   "cell_type": "code",
   "execution_count": 74,
   "metadata": {},
   "outputs": [],
   "source": [
    "class QState(QState):\n",
    "    def op(self, operator, bit = 0):\n",
    "        self.state = kronify(self.no_of_bits, {bit: operator}, ID2) @ self.state\n",
    "        return self"
   ]
  },
  {
   "cell_type": "code",
   "execution_count": 80,
   "metadata": {},
   "outputs": [
    {
     "data": {
      "image/png": "[encoded data removed]",
      "text/plain": [
       "<Figure size 432x288 with 1 Axes>"
      ]
     },
     "metadata": {
      "needs_background": "light"
     },
     "output_type": "display_data"
    },
    {
     "data": {
      "image/png": "[encoded data removed]",
      "text/plain": [
       "<Figure size 432x288 with 1 Axes>"
      ]
     },
     "metadata": {
      "needs_background": "light"
     },
     "output_type": "display_data"
    }
   ],
   "source": [
    "# Beispiel: EPR-Paar\n",
    "epr = QState(2).op(H).plot().op(CNOT).plot()"
   ]
  },
  {
   "cell_type": "markdown",
   "metadata": {},
   "source": [
    "## Messvorgang\n",
    "\n",
    "* Messung ist ein Vorgang, die eine Information aus dem Quantensystem mitteilt und Information im Quantenzustand vernichtet\n",
    "* Physikalisch: Abgabe von Energie, Teil des \n",
    "* Quantensysteme sind probabilistisch\n",
    "\n",
    "Der Messvorgang wird hier logisch in zwei Anteile `expect` und `collapse` zerlegt."
   ]
  },
  {
   "cell_type": "markdown",
   "metadata": {},
   "source": [
    "### Quantenzustand als probabilistischer Erwartungswert\n",
    "\n",
    "Die Erwartung gibt an, mit welcher Wahrscheinlichkeit ein Qubit bzw. eine Reihe von Qubits an den gegebenen Positionen einen bestimmten Wert annehmen. Bei einem Qubit wird in der Regel die Wahrscheinlichkeit für $|0\\rangle$ oder $|1\\rangle$ als Erwartung angefragt, bei zwei Qubits eine Kombination aus $|0\\rangle\\,|0\\rangle$, $|0\\rangle\\,|1\\rangle$, $|1\\rangle\\,|0\\rangle$ bzw. $|1\\rangle\\,|1\\rangle$."
   ]
  },
  {
   "cell_type": "code",
   "execution_count": 86,
   "metadata": {},
   "outputs": [],
   "source": [
    "class QState(QState):\n",
    "    def expect(self, query = {0: ZERO}):\n",
    "        L = kronify(self.no_of_bits, query, ID2)\n",
    "        return np.sum(L @ (np.conjugate(self.state) * self.state))"
   ]
  },
  {
   "cell_type": "code",
   "execution_count": 95,
   "metadata": {},
   "outputs": [
    {
     "name": "stdout",
     "output_type": "stream",
     "text": [
      "QState(2) valid = True:\n",
      " 0 |00⟩ 0.7071067811865475 (0.7071 * e^0.00°) 50.00%\n",
      " 1 |01⟩ 0.0 (0.0000 * e^0.00°) 0.00%\n",
      " 2 |10⟩ 0.7071067811865475 (0.7071 * e^0.00°) 50.00%\n",
      " 3 |11⟩ 0.0 (0.0000 * e^0.00°) 0.00%\n",
      "0.4999999999999999\n",
      "0.4999999999999999\n",
      "0.9999999999999998\n",
      "0.0\n",
      "0.4999999999999999\n"
     ]
    }
   ],
   "source": [
    "# Beispiel\n",
    "q = QState(2).op(H).show()\n",
    "print(q.expect({0: ZERO}))\n",
    "print(q.expect({0: ONE}))\n",
    "print(q.expect({1: ZERO}))\n",
    "print(q.expect({1: ONE}))\n",
    "print(q.expect({0: ZERO, 1: ZERO}))"
   ]
  },
  {
   "cell_type": "markdown",
   "metadata": {},
   "source": [
    "### Entzug von Information: `collapse`\n",
    "\n",
    "* `collapse` liefert einen neu instanziierten Quantenzustand zurück"
   ]
  },
  {
   "cell_type": "code",
   "execution_count": 96,
   "metadata": {},
   "outputs": [],
   "source": [
    "class QState(QState):\n",
    "    def collapse(self, query = {0: ZERO}):\n",
    "        L = kronify(self.no_of_bits, query, ID2)\n",
    "        state = np.sum(L * self.state, axis=0)\n",
    "        state = (1 / np.linalg.norm(state)) * state\n",
    "        qstate = QState(self.no_of_bits)\n",
    "        qstate.state = state\n",
    "        return qstate"
   ]
  },
  {
   "cell_type": "code",
   "execution_count": 100,
   "metadata": {},
   "outputs": [
    {
     "name": "stdout",
     "output_type": "stream",
     "text": [
      "[[1 0 0 0 0 0 0 0]\n",
      " [0 2 0 0 0 0 0 0]\n",
      " [0 0 0 0 5 0 0 0]\n",
      " [0 0 0 0 0 6 0 0]]\n",
      "[1 2 0 0 5 6 0 0]\n"
     ]
    }
   ],
   "source": [
    "# Funktionsweise\n",
    "L = kronify(3, {1: ZERO}, ID2)\n",
    "print(L * np.array([1,2,3,4,5,6,7,8]))\n",
    "print(np.sum(_, axis=0))"
   ]
  },
  {
   "cell_type": "code",
   "execution_count": 98,
   "metadata": {},
   "outputs": [
    {
     "name": "stdout",
     "output_type": "stream",
     "text": [
      "QState(2) valid = True:\n",
      " 0 |00⟩ 0.7071067811865475 (0.7071 * e^0.00°) 50.00%\n",
      " 1 |01⟩ 0.0 (0.0000 * e^0.00°) 0.00%\n",
      " 2 |10⟩ 0.7071067811865475 (0.7071 * e^0.00°) 50.00%\n",
      " 3 |11⟩ 0.0 (0.0000 * e^0.00°) 0.00%\n"
     ]
    },
    {
     "data": {
      "text/plain": [
       "QState(2) valid = True:\n",
       " 0 |00⟩ 1.0 (1.0000 * e^0.00°) 100.00%\n",
       " 1 |01⟩ 0.0 (0.0000 * e^0.00°) 0.00%\n",
       " 2 |10⟩ 0.0 (0.0000 * e^0.00°) 0.00%\n",
       " 3 |11⟩ 0.0 (0.0000 * e^0.00°) 0.00%"
      ]
     },
     "execution_count": 98,
     "metadata": {},
     "output_type": "execute_result"
    }
   ],
   "source": [
    "# Beispiel\n",
    "q = QState(2).op(H).show()\n",
    "q.collapse({0: ZERO})"
   ]
  },
  {
   "cell_type": "code",
   "execution_count": 101,
   "metadata": {},
   "outputs": [
    {
     "name": "stdout",
     "output_type": "stream",
     "text": [
      "QState(2) valid = True:\n",
      " 0 |00⟩ 0.7071067811865475 (0.7071 * e^0.00°) 50.00%\n",
      " 1 |01⟩ 0.0 (0.0000 * e^0.00°) 0.00%\n",
      " 2 |10⟩ 0.7071067811865475 (0.7071 * e^0.00°) 50.00%\n",
      " 3 |11⟩ 0.0 (0.0000 * e^0.00°) 0.00%\n"
     ]
    },
    {
     "data": {
      "text/plain": [
       "QState(2) valid = True:\n",
       " 0 |00⟩ 0.0 (0.0000 * e^0.00°) 0.00%\n",
       " 1 |01⟩ 0.0 (0.0000 * e^0.00°) 0.00%\n",
       " 2 |10⟩ 1.0 (1.0000 * e^0.00°) 100.00%\n",
       " 3 |11⟩ 0.0 (0.0000 * e^0.00°) 0.00%"
      ]
     },
     "execution_count": 101,
     "metadata": {},
     "output_type": "execute_result"
    }
   ],
   "source": [
    "# Beispiel\n",
    "q = QState(2).op(H).show()\n",
    "q.collapse({0: ONE})"
   ]
  },
  {
   "cell_type": "code",
   "execution_count": 102,
   "metadata": {},
   "outputs": [
    {
     "name": "stdout",
     "output_type": "stream",
     "text": [
      "QState(2) valid = True:\n",
      " 0 |00⟩ 0.7071067811865475 (0.7071 * e^0.00°) 50.00%\n",
      " 1 |01⟩ 0.0 (0.0000 * e^0.00°) 0.00%\n",
      " 2 |10⟩ 0.7071067811865475 (0.7071 * e^0.00°) 50.00%\n",
      " 3 |11⟩ 0.0 (0.0000 * e^0.00°) 0.00%\n"
     ]
    },
    {
     "data": {
      "text/plain": [
       "QState(2) valid = True:\n",
       " 0 |00⟩ 0.7071067811865476 (0.7071 * e^0.00°) 50.00%\n",
       " 1 |01⟩ 0.0 (0.0000 * e^0.00°) 0.00%\n",
       " 2 |10⟩ 0.7071067811865476 (0.7071 * e^0.00°) 50.00%\n",
       " 3 |11⟩ 0.0 (0.0000 * e^0.00°) 0.00%"
      ]
     },
     "execution_count": 102,
     "metadata": {},
     "output_type": "execute_result"
    }
   ],
   "source": [
    "# Beispiel\n",
    "q = QState(2).op(H).show()\n",
    "q.collapse({1: ZERO})"
   ]
  },
  {
   "cell_type": "code",
   "execution_count": 104,
   "metadata": {},
   "outputs": [
    {
     "name": "stdout",
     "output_type": "stream",
     "text": [
      "QState(2) valid = True:\n",
      " 0 |00⟩ 0.7071067811865475 (0.7071 * e^0.00°) 50.00%\n",
      " 1 |01⟩ 0.0 (0.0000 * e^0.00°) 0.00%\n",
      " 2 |10⟩ 0.7071067811865475 (0.7071 * e^0.00°) 50.00%\n",
      " 3 |11⟩ 0.0 (0.0000 * e^0.00°) 0.00%\n"
     ]
    },
    {
     "name": "stderr",
     "output_type": "stream",
     "text": [
      "/var/folders/0k/rm5kn55j7psf5txx4jbwzvjh0000gn/T/ipykernel_2421/3191954055.py:5: RuntimeWarning: divide by zero encountered in double_scalars\n",
      "  state = (1 / np.linalg.norm(state)) * state\n",
      "/var/folders/0k/rm5kn55j7psf5txx4jbwzvjh0000gn/T/ipykernel_2421/3191954055.py:5: RuntimeWarning: invalid value encountered in multiply\n",
      "  state = (1 / np.linalg.norm(state)) * state\n"
     ]
    },
    {
     "data": {
      "text/plain": [
       "QState(2) valid = False:\n",
       " 0 |00⟩ nan (nan * e^nan°) nan%\n",
       " 1 |01⟩ nan (nan * e^nan°) nan%\n",
       " 2 |10⟩ nan (nan * e^nan°) nan%\n",
       " 3 |11⟩ nan (nan * e^nan°) nan%"
      ]
     },
     "execution_count": 104,
     "metadata": {},
     "output_type": "execute_result"
    }
   ],
   "source": [
    "# Beispiel: Es ist Unsinn, ein System auf Bit zu kollabieren, dessen Erwartungswert 0 ist.\n",
    "q = QState(2).op(H).show()\n",
    "q.collapse({1: ONE})"
   ]
  },
  {
   "cell_type": "markdown",
   "metadata": {},
   "source": [
    "### Die Messung: `measure`"
   ]
  },
  {
   "cell_type": "markdown",
   "metadata": {},
   "source": [
    "* Messung aus drei logischen Anteilen: Erwartungswert für zu messendes Bit, Zufallsentscheidung (Informationsanteil), Zustandskollaps (Konsequenz der Informationsabgabe)\n",
    "* Rückgabe der beiden Informationsanteile: Messergebnis und neuer Quantenzustand.\n",
    "* Neuer Quantenzustand als neue Instanz, damit mit altem Quantenzustand mehrere Messungen durchgeführt werden können.\n",
    "\n",
    "Verifikation: Nach der Messung muss der Erwartungswert zum Messergebnis 100% betragen."
   ]
  },
  {
   "cell_type": "code",
   "execution_count": 108,
   "metadata": {},
   "outputs": [],
   "source": [
    "class QState(QState):  \n",
    "    def measure(self, bit, this = ONE, that = ZERO):\n",
    "        expectation = self.expect({bit: this})\n",
    "        choose = this if random.random() < expectation else that\n",
    "        return choose, self.collapse({bit: choose})"
   ]
  },
  {
   "cell_type": "code",
   "execution_count": 134,
   "metadata": {},
   "outputs": [
    {
     "name": "stdout",
     "output_type": "stream",
     "text": [
      "QState(2) valid = True:\n",
      " 0 |00⟩ 0.7071067811865475 (0.7071 * e^0.00°) 50.00%\n",
      " 1 |01⟩ 0.0 (0.0000 * e^0.00°) 0.00%\n",
      " 2 |10⟩ 0.0 (0.0000 * e^0.00°) 0.00%\n",
      " 3 |11⟩ 0.7071067811865475 (0.7071 * e^0.00°) 50.00%\n"
     ]
    },
    {
     "data": {
      "image/png": "[encoded data removed]",
      "text/plain": [
       "<Figure size 432x288 with 1 Axes>"
      ]
     },
     "metadata": {
      "needs_background": "light"
     },
     "output_type": "display_data"
    },
    {
     "name": "stdout",
     "output_type": "stream",
     "text": [
      "[0 1] \n",
      " QState(2) valid = True:\n",
      " 0 |00⟩ 0.0 (0.0000 * e^0.00°) 0.00%\n",
      " 1 |01⟩ 0.0 (0.0000 * e^0.00°) 0.00%\n",
      " 2 |10⟩ 0.0 (0.0000 * e^0.00°) 0.00%\n",
      " 3 |11⟩ 1.0 (1.0000 * e^0.00°) 100.00%\n",
      "1.0\n"
     ]
    }
   ],
   "source": [
    "\n",
    "# Beispiel mehrfach ausführen, um Zufallswahl in Aktion zu sehen\n",
    "q = QState(2).op(H).op(CNOT).show().plot()\n",
    "res, q_new = q.measure(0, ZERO, ONE)\n",
    "print(res, \"\\n\", q_new)\n",
    "print(q_new.expect({0: res}))"
   ]
  },
  {
   "cell_type": "markdown",
   "metadata": {},
   "source": [
    "### Sampling"
   ]
  },
  {
   "cell_type": "code",
   "execution_count": 191,
   "metadata": {},
   "outputs": [],
   "source": [
    "def sampling(n, qstate, bit, this, that):\n",
    "    _, qstate_new = qstate.measure(bit, this, that)\n",
    "    for run in range(1, n):\n",
    "        qstate_new.state = qstate_new.state + qstate.measure(bit, this, that)[1].state\n",
    "    qstate_new.state = 1.0/n * qstate_new.state\n",
    "    qstate_new.state = np.sqrt(qstate_new.state)\n",
    "    return qstate_new\n",
    "    "
   ]
  },
  {
   "cell_type": "code",
   "execution_count": 212,
   "metadata": {},
   "outputs": [
    {
     "data": {
      "text/plain": [
       "QState(2) valid = True:\n",
       " 0 |00⟩ 0.705691150575094 (0.7057 * e^0.00°) 49.80%\n",
       " 1 |01⟩ 0.0 (0.0000 * e^0.00°) 0.00%\n",
       " 2 |10⟩ 0.0 (0.0000 * e^0.00°) 0.00%\n",
       " 3 |11⟩ 0.708519583356734 (0.7085 * e^0.00°) 50.20%"
      ]
     },
     "execution_count": 212,
     "metadata": {},
     "output_type": "execute_result"
    }
   ],
   "source": [
    "sampling(1000, q, 0, ZERO, ONE)"
   ]
  },
  {
   "cell_type": "markdown",
   "metadata": {},
   "source": [
    "# Preliminary Stuff"
   ]
  },
  {
   "cell_type": "code",
   "execution_count": 123,
   "metadata": {},
   "outputs": [
    {
     "data": {
      "text/plain": [
       "QState(4) valid = True:\n",
       " 0 |0000⟩ 0.4999999999999999 (0.5000 * e^0.00°) 25.00%\n",
       " 1 |0001⟩ 0.0 (0.0000 * e^0.00°) 0.00%\n",
       " 2 |0010⟩ 0.0 (0.0000 * e^0.00°) 0.00%\n",
       " 3 |0011⟩ 0.0 (0.0000 * e^0.00°) 0.00%\n",
       " 4 |0100⟩ 0.4999999999999999 (0.5000 * e^0.00°) 25.00%\n",
       " 5 |0101⟩ 0.0 (0.0000 * e^0.00°) 0.00%\n",
       " 6 |0110⟩ 0.0 (0.0000 * e^0.00°) 0.00%\n",
       " 7 |0111⟩ 0.0 (0.0000 * e^0.00°) 0.00%\n",
       " 8 |1000⟩ 0.4999999999999999 (0.5000 * e^0.00°) 25.00%\n",
       " 9 |1001⟩ 0.0 (0.0000 * e^0.00°) 0.00%\n",
       "10 |1010⟩ 0.0 (0.0000 * e^0.00°) 0.00%\n",
       "11 |1011⟩ 0.0 (0.0000 * e^0.00°) 0.00%\n",
       "12 |1100⟩ 0.4999999999999999 (0.5000 * e^0.00°) 25.00%\n",
       "13 |1101⟩ 0.0 (0.0000 * e^0.00°) 0.00%\n",
       "14 |1110⟩ 0.0 (0.0000 * e^0.00°) 0.00%\n",
       "15 |1111⟩ 0.0 (0.0000 * e^0.00°) 0.00%"
      ]
     },
     "execution_count": 123,
     "metadata": {},
     "output_type": "execute_result"
    }
   ],
   "source": [
    "q = QState(4, {0: np.array([1/sqrt(2), 1/sqrt(2)]),\n",
    "               1: np.array([1/sqrt(2), 1/sqrt(2)])})\n",
    "#q = QState(4)\n",
    "q"
   ]
  },
  {
   "cell_type": "code",
   "execution_count": 124,
   "metadata": {},
   "outputs": [
    {
     "data": {
      "text/plain": [
       "QState(4) valid = True:\n",
       " 0 |0000⟩ 0.4999999999999999 (0.5000 * e^0.00°) 25.00%\n",
       " 1 |0001⟩ 0.0 (0.0000 * e^0.00°) 0.00%\n",
       " 2 |0010⟩ 0.0 (0.0000 * e^0.00°) 0.00%\n",
       " 3 |0011⟩ 0.0 (0.0000 * e^0.00°) 0.00%\n",
       " 4 |0100⟩ 0.4999999999999999 (0.5000 * e^0.00°) 25.00%\n",
       " 5 |0101⟩ 0.0 (0.0000 * e^0.00°) 0.00%\n",
       " 6 |0110⟩ 0.0 (0.0000 * e^0.00°) 0.00%\n",
       " 7 |0111⟩ 0.0 (0.0000 * e^0.00°) 0.00%\n",
       " 8 |1000⟩ 0.4999999999999999 (0.5000 * e^0.00°) 25.00%\n",
       " 9 |1001⟩ 0.0 (0.0000 * e^0.00°) 0.00%\n",
       "10 |1010⟩ 0.0 (0.0000 * e^0.00°) 0.00%\n",
       "11 |1011⟩ 0.0 (0.0000 * e^0.00°) 0.00%\n",
       "12 |1100⟩ 0.4999999999999999 (0.5000 * e^0.00°) 25.00%\n",
       "13 |1101⟩ 0.0 (0.0000 * e^0.00°) 0.00%\n",
       "14 |1110⟩ 0.0 (0.0000 * e^0.00°) 0.00%\n",
       "15 |1111⟩ 0.0 (0.0000 * e^0.00°) 0.00%"
      ]
     },
     "execution_count": 124,
     "metadata": {},
     "output_type": "execute_result"
    }
   ],
   "source": [
    "q = q.op(PAULIX, 0).op(PAULIX, 1)\n",
    "q"
   ]
  },
  {
   "cell_type": "code",
   "execution_count": 125,
   "metadata": {},
   "outputs": [
    {
     "data": {
      "text/plain": [
       "QState(4) valid = True:\n",
       " 0 |0000⟩ 0.4999999999999999 (0.5000 * e^0.00°) 25.00%\n",
       " 1 |0001⟩ 0.0 (0.0000 * e^0.00°) 0.00%\n",
       " 2 |0010⟩ 0.0 (0.0000 * e^0.00°) 0.00%\n",
       " 3 |0011⟩ 0.0 (0.0000 * e^0.00°) 0.00%\n",
       " 4 |0100⟩ 0.4999999999999999 (0.5000 * e^0.00°) 25.00%\n",
       " 5 |0101⟩ 0.0 (0.0000 * e^0.00°) 0.00%\n",
       " 6 |0110⟩ 0.0 (0.0000 * e^0.00°) 0.00%\n",
       " 7 |0111⟩ 0.0 (0.0000 * e^0.00°) 0.00%\n",
       " 8 |1000⟩ 0.0 (0.0000 * e^0.00°) 0.00%\n",
       " 9 |1001⟩ 0.0 (0.0000 * e^0.00°) 0.00%\n",
       "10 |1010⟩ 0.4999999999999999 (0.5000 * e^0.00°) 25.00%\n",
       "11 |1011⟩ 0.0 (0.0000 * e^0.00°) 0.00%\n",
       "12 |1100⟩ 0.0 (0.0000 * e^0.00°) 0.00%\n",
       "13 |1101⟩ 0.0 (0.0000 * e^0.00°) 0.00%\n",
       "14 |1110⟩ 0.4999999999999999 (0.5000 * e^0.00°) 25.00%\n",
       "15 |1111⟩ 0.0 (0.0000 * e^0.00°) 0.00%"
      ]
     },
     "execution_count": 125,
     "metadata": {},
     "output_type": "execute_result"
    }
   ],
   "source": [
    "q = q.op(SWAP, 1).op(CNOT).op(SWAP, 1)\n",
    "q"
   ]
  },
  {
   "cell_type": "code",
   "execution_count": 126,
   "metadata": {},
   "outputs": [
    {
     "data": {
      "text/plain": [
       "QState(4) valid = True:\n",
       " 0 |0000⟩ 0.4999999999999999 (0.5000 * e^0.00°) 25.00%\n",
       " 1 |0001⟩ 0.0 (0.0000 * e^0.00°) 0.00%\n",
       " 2 |0010⟩ 0.0 (0.0000 * e^0.00°) 0.00%\n",
       " 3 |0011⟩ 0.0 (0.0000 * e^0.00°) 0.00%\n",
       " 4 |0100⟩ 0.0 (0.0000 * e^0.00°) 0.00%\n",
       " 5 |0101⟩ 0.0 (0.0000 * e^0.00°) 0.00%\n",
       " 6 |0110⟩ 0.4999999999999999 (0.5000 * e^0.00°) 25.00%\n",
       " 7 |0111⟩ 0.0 (0.0000 * e^0.00°) 0.00%\n",
       " 8 |1000⟩ 0.0 (0.0000 * e^0.00°) 0.00%\n",
       " 9 |1001⟩ 0.0 (0.0000 * e^0.00°) 0.00%\n",
       "10 |1010⟩ 0.4999999999999999 (0.5000 * e^0.00°) 25.00%\n",
       "11 |1011⟩ 0.0 (0.0000 * e^0.00°) 0.00%\n",
       "12 |1100⟩ 0.4999999999999999 (0.5000 * e^0.00°) 25.00%\n",
       "13 |1101⟩ 0.0 (0.0000 * e^0.00°) 0.00%\n",
       "14 |1110⟩ 0.0 (0.0000 * e^0.00°) 0.00%\n",
       "15 |1111⟩ 0.0 (0.0000 * e^0.00°) 0.00%"
      ]
     },
     "execution_count": 126,
     "metadata": {},
     "output_type": "execute_result"
    }
   ],
   "source": [
    "q = q.op(CNOT, 1)\n",
    "q"
   ]
  },
  {
   "cell_type": "code",
   "execution_count": 127,
   "metadata": {},
   "outputs": [
    {
     "name": "stdout",
     "output_type": "stream",
     "text": [
      "QState(4) valid = True:\n",
      " 0 |0000⟩ 0.4999999999999999 (0.5000 * e^0.00°) 25.00%\n",
      " 1 |0001⟩ 0.0 (0.0000 * e^0.00°) 0.00%\n",
      " 2 |0010⟩ 0.0 (0.0000 * e^0.00°) 0.00%\n",
      " 3 |0011⟩ 0.0 (0.0000 * e^0.00°) 0.00%\n",
      " 4 |0100⟩ 0.0 (0.0000 * e^0.00°) 0.00%\n",
      " 5 |0101⟩ 0.0 (0.0000 * e^0.00°) 0.00%\n",
      " 6 |0110⟩ 0.4999999999999999 (0.5000 * e^0.00°) 25.00%\n",
      " 7 |0111⟩ 0.0 (0.0000 * e^0.00°) 0.00%\n",
      " 8 |1000⟩ 0.0 (0.0000 * e^0.00°) 0.00%\n",
      " 9 |1001⟩ 0.0 (0.0000 * e^0.00°) 0.00%\n",
      "10 |1010⟩ 0.4999999999999999 (0.5000 * e^0.00°) 25.00%\n",
      "11 |1011⟩ 0.0 (0.0000 * e^0.00°) 0.00%\n",
      "12 |1100⟩ 0.0 (0.0000 * e^0.00°) 0.00%\n",
      "13 |1101⟩ 0.4999999999999999 (0.5000 * e^0.00°) 25.00%\n",
      "14 |1110⟩ 0.0 (0.0000 * e^0.00°) 0.00%\n",
      "15 |1111⟩ 0.0 (0.0000 * e^0.00°) 0.00%\n"
     ]
    },
    {
     "data": {
      "image/png": "[encoded data removed]",
      "text/plain": [
       "<Figure size 432x288 with 1 Axes>"
      ]
     },
     "metadata": {
      "needs_background": "light"
     },
     "output_type": "display_data"
    }
   ],
   "source": [
    "q = q.op(SWAP, 2).op(TOFFOLI).op(SWAP, 2).show().plot()"
   ]
  },
  {
   "cell_type": "code",
   "execution_count": 128,
   "metadata": {},
   "outputs": [
    {
     "name": "stdout",
     "output_type": "stream",
     "text": [
      "(0.2499999999999999+0j)\n",
      "(0.2499999999999999+0j)\n",
      "(0.4999999999999998+0j)\n",
      "0j\n",
      "(0.4999999999999998+0j)\n",
      "(0.4999999999999998+0j)\n",
      "(0.7499999999999997+0j)\n",
      "(0.2499999999999999+0j)\n"
     ]
    }
   ],
   "source": [
    "print(q.expect({2: ZERO, 3: ZERO})) # 25%\n",
    "print(q.expect({2: ZERO, 3: ONE}))  # 25%\n",
    "print(q.expect({2: ONE, 3: ZERO}))  # 50%\n",
    "print(q.expect({2: ONE, 3: ONE}))   #  0%\n",
    "print(q.expect({2: ZERO})) # 50%\n",
    "print(q.expect({2: ONE}))  # 50%\n",
    "print(q.expect({3: ZERO})) # 75%\n",
    "print(q.expect({3: ONE}))  # 25%"
   ]
  },
  {
   "cell_type": "markdown",
   "metadata": {},
   "source": [
    "Beachte: Aus der Erwartung an die Einzelbits ist nicht so einfach die Erwartung an die Kombination von Bits zu berechnen. Eine Messung verändert den Zustandsvektor, was die zweite Messung beeinflusst. Das ist zwar kommutativ, aber den Erwartungen nicht als Kombination anzusehen."
   ]
  },
  {
   "cell_type": "markdown",
   "metadata": {},
   "source": []
  }
 ],
 "metadata": {
  "interpreter": {
   "hash": "b0fa6594d8f4cbf19f97940f81e996739fb7646882a419484c72d19e05852a7e"
  },
  "kernelspec": {
   "display_name": "Python 3.9.12 64-bit",
   "language": "python",
   "name": "python3"
  },
  "language_info": {
   "codemirror_mode": {
    "name": "ipython",
    "version": 3
   },
   "file_extension": ".py",
   "mimetype": "text/x-python",
   "name": "python",
   "nbconvert_exporter": "python",
   "pygments_lexer": "ipython3",
   "version": "3.9.12"
  },
  "orig_nbformat": 4
 },
 "nbformat": 4,
 "nbformat_minor": 2
}
