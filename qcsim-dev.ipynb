{
 "cells": [
  {
   "cell_type": "markdown",
   "metadata": {},
   "source": [
    "# Entwicklungsnotebook\n",
    "\n",
    "Werkstatt, um Umsetzungen zum Quantenschaltungssimulator auszuprobieren."
   ]
  },
  {
   "cell_type": "code",
   "execution_count": 29,
   "metadata": {},
   "outputs": [],
   "source": [
    "import numpy as np\n",
    "from cmath import isclose, phase, pi\n",
    "import math\n",
    "import matplotlib.pyplot as plt"
   ]
  },
  {
   "cell_type": "code",
   "execution_count": 30,
   "metadata": {},
   "outputs": [],
   "source": [
    "class QState:\n",
    "    def __init__(self, n):\n",
    "        self.n = n\n",
    "        self.state = np.zeros(2**n, dtype=complex)\n",
    "        self.state[0] = 1 # Initialisierung auf Wert 0\n",
    "    \n",
    "    def op(self, operator, i = 0):\n",
    "        eyeL = np.eye(2**i, dtype=complex)\n",
    "        eyeR = np.eye(2**(self.n - i - int(math.log(operator.shape[0], 2))), dtype=complex)\n",
    "        self.state = np.kron(np.kron(eyeL, operator), eyeR) @ self.state\n",
    "        return self\n",
    "    \n",
    "    def isvalid(self):\n",
    "        return isclose(self.state @ np.conjugate(self.state), 1.0)\n",
    "    \n",
    "    def __repr__(self):\n",
    "        repr = f\"{self.__class__.__name__}({self.n}) valid = {self.isvalid()}:\"\n",
    "        for i in range(0, self.state.shape[0]):\n",
    "            num = self.state[i]\n",
    "            repr += f\"\\n{i:2d} |{i:0{self.n}b}⟩ \"\n",
    "            repr += f\"{num.real if isclose(num.imag, 0.0) else (f'{num.imag}i' if isclose(num.real, 0.0) else f'{num.real} + {num.imag}i')} \"\n",
    "            repr += f\"({abs(num):.4f} * e^{phase(num) / pi * 180.0:.2f}°) \"\n",
    "            repr += f\"{abs(num * num):.2%}\"\n",
    "        return repr\n",
    "    \n",
    "    def show(self):\n",
    "        print(self)\n",
    "        return self\n",
    "    \n",
    "    def plot(self):\n",
    "        names = list(map(lambda x: f'|{x}⟩', range(0, self.state.shape[0])))\n",
    "        values = list(map(lambda x: abs(x), self.state * self.state))\n",
    "        plt.bar(names, values)\n",
    "        plt.suptitle(f'{self.__class__.__name__}({self.n})')\n",
    "        plt.show()\n",
    "        return self"
   ]
  },
  {
   "cell_type": "code",
   "execution_count": 31,
   "metadata": {},
   "outputs": [
    {
     "data": {
      "text/plain": [
       "QState(3) valid = True:\n",
       " 0 |000⟩ 1.0 (1.0000 * e^0.00°) 100.00%\n",
       " 1 |001⟩ 0.0 (0.0000 * e^0.00°) 0.00%\n",
       " 2 |010⟩ 0.0 (0.0000 * e^0.00°) 0.00%\n",
       " 3 |011⟩ 0.0 (0.0000 * e^0.00°) 0.00%\n",
       " 4 |100⟩ 0.0 (0.0000 * e^0.00°) 0.00%\n",
       " 5 |101⟩ 0.0 (0.0000 * e^0.00°) 0.00%\n",
       " 6 |110⟩ 0.0 (0.0000 * e^0.00°) 0.00%\n",
       " 7 |111⟩ 0.0 (0.0000 * e^0.00°) 0.00%"
      ]
     },
     "execution_count": 31,
     "metadata": {},
     "output_type": "execute_result"
    }
   ],
   "source": [
    "QState(3)"
   ]
  },
  {
   "cell_type": "markdown",
   "metadata": {},
   "source": [
    "Mit dieser Änderung von `__init__` kann ein Dictionary übergeben werden, das angibt, welches Qubit wie initialisiert werden soll. Per default wird jedes Qubit auf $|0\\rangle$, d.h. `np.array([1, 0])` gesetzt. Der Kopf der Initialisierungsmethode zeigt beispielhaft, wie ein solches Dictionary aufgebaut ist. Die Zählung der Qubits beginnt bei 0."
   ]
  },
  {
   "cell_type": "code",
   "execution_count": 32,
   "metadata": {},
   "outputs": [],
   "source": [
    "class QState(QState):\n",
    "    def __init__(self, n, qubitState = {0: np.array([1, 0])}):\n",
    "        self.n = n\n",
    "        self.state = np.array([1], dtype=complex)\n",
    "        for qubit in range(0,n):\n",
    "            self.state = np.kron(self.state, qubitState.get(qubit, np.array([1, 0])))"
   ]
  },
  {
   "cell_type": "code",
   "execution_count": 33,
   "metadata": {},
   "outputs": [
    {
     "data": {
      "text/plain": [
       "QState(3) valid = True:\n",
       " 0 |000⟩ 1.0 (1.0000 * e^0.00°) 100.00%\n",
       " 1 |001⟩ 0.0 (0.0000 * e^0.00°) 0.00%\n",
       " 2 |010⟩ 0.0 (0.0000 * e^0.00°) 0.00%\n",
       " 3 |011⟩ 0.0 (0.0000 * e^0.00°) 0.00%\n",
       " 4 |100⟩ 0.0 (0.0000 * e^0.00°) 0.00%\n",
       " 5 |101⟩ 0.0 (0.0000 * e^0.00°) 0.00%\n",
       " 6 |110⟩ 0.0 (0.0000 * e^0.00°) 0.00%\n",
       " 7 |111⟩ 0.0 (0.0000 * e^0.00°) 0.00%"
      ]
     },
     "execution_count": 33,
     "metadata": {},
     "output_type": "execute_result"
    }
   ],
   "source": [
    "QState(3)"
   ]
  },
  {
   "cell_type": "code",
   "execution_count": 34,
   "metadata": {},
   "outputs": [
    {
     "data": {
      "text/plain": [
       "QState(3) valid = True:\n",
       " 0 |000⟩ 0.0 (0.0000 * e^0.00°) 0.00%\n",
       " 1 |001⟩ 0.0 (0.0000 * e^0.00°) 0.00%\n",
       " 2 |010⟩ 0.0 (0.0000 * e^0.00°) 0.00%\n",
       " 3 |011⟩ 1.0 (1.0000 * e^0.00°) 100.00%\n",
       " 4 |100⟩ 0.0 (0.0000 * e^0.00°) 0.00%\n",
       " 5 |101⟩ 0.0 (0.0000 * e^0.00°) 0.00%\n",
       " 6 |110⟩ 0.0 (0.0000 * e^0.00°) 0.00%\n",
       " 7 |111⟩ 0.0 (0.0000 * e^0.00°) 0.00%"
      ]
     },
     "execution_count": 34,
     "metadata": {},
     "output_type": "execute_result"
    }
   ],
   "source": [
    "QState(3, {1: np.array([0,1]), 2: np.array([0,1])})"
   ]
  }
 ],
 "metadata": {
  "interpreter": {
   "hash": "b0fa6594d8f4cbf19f97940f81e996739fb7646882a419484c72d19e05852a7e"
  },
  "kernelspec": {
   "display_name": "Python 3.9.12 64-bit",
   "language": "python",
   "name": "python3"
  },
  "language_info": {
   "codemirror_mode": {
    "name": "ipython",
    "version": 3
   },
   "file_extension": ".py",
   "mimetype": "text/x-python",
   "name": "python",
   "nbconvert_exporter": "python",
   "pygments_lexer": "ipython3",
   "version": "3.9.12"
  },
  "orig_nbformat": 4
 },
 "nbformat": 4,
 "nbformat_minor": 2
}
