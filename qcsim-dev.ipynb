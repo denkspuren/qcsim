{
 "cells": [
  {
   "cell_type": "code",
   "execution_count": 12,
   "metadata": {},
   "outputs": [],
   "source": [
    "%run ./gates.ipynb"
   ]
  },
  {
   "cell_type": "code",
   "execution_count": 8,
   "metadata": {},
   "outputs": [],
   "source": [
    "import math"
   ]
  },
  {
   "cell_type": "code",
   "execution_count": 61,
   "metadata": {},
   "outputs": [],
   "source": [
    "ZERO = np.array([1, 0])\n",
    "ONE  = np.array([0, 1])\n",
    "\n",
    "ID2  = np.array([[1, 0],\n",
    "                 [0, 1]])\n",
    "O2   = np.array([[0, 0],\n",
    "                 [0, 0]])"
   ]
  },
  {
   "cell_type": "code",
   "execution_count": 77,
   "metadata": {},
   "outputs": [],
   "source": [
    "def kronify(no_of_bits, bit_component, default = ZERO):\n",
    "    result = np.array([1])\n",
    "    bit = 0\n",
    "    while (bit < no_of_bits):\n",
    "        component = bit_component.get(bit, default)\n",
    "        result = np.kron(result, component)\n",
    "        bit += int(math.log(component.shape[0], 2))\n",
    "    return result"
   ]
  },
  {
   "cell_type": "markdown",
   "metadata": {},
   "source": [
    "Mit `kronify` kann zum Beispiel der Zustandsvektor initialisiert werden."
   ]
  },
  {
   "cell_type": "code",
   "execution_count": 18,
   "metadata": {},
   "outputs": [
    {
     "data": {
      "text/plain": [
       "array([0.+0.j, 0.+0.j, 0.+0.j, 0.+0.j, 1.+0.j, 0.+0.j, 0.+0.j, 0.+0.j])"
      ]
     },
     "execution_count": 18,
     "metadata": {},
     "output_type": "execute_result"
    }
   ],
   "source": [
    "kronify(3, {0: ONE}, ZERO)"
   ]
  },
  {
   "cell_type": "markdown",
   "metadata": {},
   "source": [
    "Oder man setzt die Matrizen auf, die auf dem Zustandsvektor operieren wird."
   ]
  },
  {
   "cell_type": "code",
   "execution_count": 21,
   "metadata": {},
   "outputs": [
    {
     "data": {
      "text/plain": [
       "array([[1.+0.j, 0.+0.j, 0.+0.j, 0.+0.j, 0.+0.j, 0.+0.j, 0.+0.j, 0.+0.j],\n",
       "       [0.+0.j, 1.+0.j, 0.+0.j, 0.+0.j, 0.+0.j, 0.+0.j, 0.+0.j, 0.+0.j],\n",
       "       [0.+0.j, 0.+0.j, 0.+0.j, 1.+0.j, 0.+0.j, 0.+0.j, 0.+0.j, 0.+0.j],\n",
       "       [0.+0.j, 0.+0.j, 1.+0.j, 0.+0.j, 0.+0.j, 0.+0.j, 0.+0.j, 0.+0.j],\n",
       "       [0.+0.j, 0.+0.j, 0.+0.j, 0.+0.j, 1.+0.j, 0.+0.j, 0.+0.j, 0.+0.j],\n",
       "       [0.+0.j, 0.+0.j, 0.+0.j, 0.+0.j, 0.+0.j, 1.+0.j, 0.+0.j, 0.+0.j],\n",
       "       [0.+0.j, 0.+0.j, 0.+0.j, 0.+0.j, 0.+0.j, 0.+0.j, 0.+0.j, 1.+0.j],\n",
       "       [0.+0.j, 0.+0.j, 0.+0.j, 0.+0.j, 0.+0.j, 0.+0.j, 1.+0.j, 0.+0.j]])"
      ]
     },
     "execution_count": 21,
     "metadata": {},
     "output_type": "execute_result"
    }
   ],
   "source": [
    "kronify(3, {1: CNOT}, ID2)"
   ]
  },
  {
   "cell_type": "markdown",
   "metadata": {},
   "source": [
    "# Entwicklungsnotebook\n",
    "\n",
    "Werkstatt, um Umsetzungen zum Quantenschaltungssimulator auszuprobieren."
   ]
  },
  {
   "cell_type": "code",
   "execution_count": 54,
   "metadata": {},
   "outputs": [],
   "source": [
    "import numpy as np\n",
    "from cmath import isclose, phase, pi, sqrt\n",
    "import math\n",
    "import matplotlib.pyplot as plt"
   ]
  },
  {
   "cell_type": "code",
   "execution_count": 158,
   "metadata": {},
   "outputs": [],
   "source": [
    "class QState:\n",
    "    def __init__(self, no_of_bits, bit_state = {0: np.array([1, 0])}):\n",
    "        self.no_of_bits = no_of_bits\n",
    "        self.state = kronify(no_of_bits, bit_state, ZERO)\n",
    "    \n",
    "    def isvalid(self):\n",
    "        return isclose(self.state @ np.conjugate(self.state), 1.0)\n",
    "    \n",
    "    def op(self, operator, bit = 0):\n",
    "        self.state = kronify(self.no_of_bits, {bit: operator}, ID2) @ self.state\n",
    "        return self\n",
    "\n",
    "    def expect(self, query = {0: ZERO}):\n",
    "        L = kronify(self.no_of_bits, query, ID2)\n",
    "        return np.sum(L @ (np.conjugate(self.state) * self.state))\n",
    "\n",
    "    def collapse(self, query = {0: ZERO}):\n",
    "        L = kronify(self.no_of_bits, query, ID2)\n",
    "        state = np.sum(L * self.state, axis=0)\n",
    "        self.state = (1 / np.linalg.norm(state)) * state\n",
    "        return self\n",
    "\n",
    "    #def measure(self, bit, value = ONE):\n",
    "    #    expectation = expect({bit: value})\n",
    "\n",
    "        "
   ]
  },
  {
   "cell_type": "code",
   "execution_count": 169,
   "metadata": {},
   "outputs": [
    {
     "name": "stdout",
     "output_type": "stream",
     "text": [
      "QState(2) valid = True:\n",
      " 0 |00⟩ 0.7071067811865475 (0.7071 * e^0.00°) 50.00%\n",
      " 1 |01⟩ 0.0 (0.0000 * e^0.00°) 0.00%\n",
      " 2 |10⟩ 0.7071067811865475 (0.7071 * e^0.00°) 50.00%\n",
      " 3 |11⟩ 0.0 (0.0000 * e^0.00°) 0.00%\n"
     ]
    },
    {
     "name": "stderr",
     "output_type": "stream",
     "text": [
      "/var/folders/0k/rm5kn55j7psf5txx4jbwzvjh0000gn/T/ipykernel_3508/3049918004.py:20: RuntimeWarning: divide by zero encountered in double_scalars\n",
      "  self.state = (1 / np.linalg.norm(state)) * state\n",
      "/var/folders/0k/rm5kn55j7psf5txx4jbwzvjh0000gn/T/ipykernel_3508/3049918004.py:20: RuntimeWarning: invalid value encountered in multiply\n",
      "  self.state = (1 / np.linalg.norm(state)) * state\n"
     ]
    },
    {
     "data": {
      "text/plain": [
       "QState(2) valid = False:\n",
       " 0 |00⟩ nan (nan * e^nan°) nan%\n",
       " 1 |01⟩ nan (nan * e^nan°) nan%\n",
       " 2 |10⟩ nan (nan * e^nan°) nan%\n",
       " 3 |11⟩ nan (nan * e^nan°) nan%"
      ]
     },
     "execution_count": 169,
     "metadata": {},
     "output_type": "execute_result"
    }
   ],
   "source": [
    "# QState(2).op(H).show().expect({1: np.array([math.sqrt(1/100.0), 1/math.sqrt(99/100.0)])})\n",
    "QState(2).op(H).show().collapse({1: ONE})"
   ]
  },
  {
   "cell_type": "code",
   "execution_count": 159,
   "metadata": {},
   "outputs": [],
   "source": [
    "class QState(QState):\n",
    "    def __repr__(self):\n",
    "        repr = f\"{self.__class__.__name__}({self.no_of_bits}) valid = {self.isvalid()}:\"\n",
    "        for i in range(0, self.state.shape[0]):\n",
    "            num = self.state[i]\n",
    "            repr += f\"\\n{i:2d} |{i:0{self.no_of_bits}b}⟩ \"\n",
    "            repr += f\"{num.real if isclose(num.imag, 0.0) else (f'{num.imag}i' if isclose(num.real, 0.0) else f'{num.real} + {num.imag}i')} \"\n",
    "            repr += f\"({abs(num):.4f} * e^{phase(num) / pi * 180.0:.2f}°) \"\n",
    "            repr += f\"{abs(num * num):.2%}\"\n",
    "        return repr\n",
    "    \n",
    "    def show(self):\n",
    "        print(self)\n",
    "        return self\n",
    "    \n",
    "    def plot(self):\n",
    "        names = list(map(lambda x: f'|{x}⟩', range(0, self.state.shape[0])))\n",
    "        values = list(map(lambda x: abs(x), self.state * self.state))\n",
    "        plt.bar(names, values)\n",
    "        plt.suptitle(f'{self.__class__.__name__}({self.no_of_bits})')\n",
    "        plt.show()\n",
    "        return self"
   ]
  },
  {
   "cell_type": "code",
   "execution_count": 164,
   "metadata": {},
   "outputs": [
    {
     "name": "stdout",
     "output_type": "stream",
     "text": [
      "QState(3) valid = True:\n",
      " 0 |000⟩ 1 (1.0000 * e^0.00°) 100.00%\n",
      " 1 |001⟩ 0 (0.0000 * e^0.00°) 0.00%\n",
      " 2 |010⟩ 0 (0.0000 * e^0.00°) 0.00%\n",
      " 3 |011⟩ 0 (0.0000 * e^0.00°) 0.00%\n",
      " 4 |100⟩ 0 (0.0000 * e^0.00°) 0.00%\n",
      " 5 |101⟩ 0 (0.0000 * e^0.00°) 0.00%\n",
      " 6 |110⟩ 0 (0.0000 * e^0.00°) 0.00%\n",
      " 7 |111⟩ 0 (0.0000 * e^0.00°) 0.00%\n"
     ]
    },
    {
     "name": "stderr",
     "output_type": "stream",
     "text": [
      "/var/folders/0k/rm5kn55j7psf5txx4jbwzvjh0000gn/T/ipykernel_3508/3049918004.py:20: RuntimeWarning: divide by zero encountered in double_scalars\n",
      "  self.state = (1 / np.linalg.norm(state)) * state\n",
      "/var/folders/0k/rm5kn55j7psf5txx4jbwzvjh0000gn/T/ipykernel_3508/3049918004.py:20: RuntimeWarning: invalid value encountered in multiply\n",
      "  self.state = (1 / np.linalg.norm(state)) * state\n"
     ]
    },
    {
     "data": {
      "text/plain": [
       "QState(3) valid = False:\n",
       " 0 |000⟩ nan (nan * e^nan°) nan%\n",
       " 1 |001⟩ nan (nan * e^nan°) nan%\n",
       " 2 |010⟩ nan (nan * e^nan°) nan%\n",
       " 3 |011⟩ nan (nan * e^nan°) nan%\n",
       " 4 |100⟩ nan (nan * e^nan°) nan%\n",
       " 5 |101⟩ nan (nan * e^nan°) nan%\n",
       " 6 |110⟩ nan (nan * e^nan°) nan%\n",
       " 7 |111⟩ nan (nan * e^nan°) nan%"
      ]
     },
     "execution_count": 164,
     "metadata": {},
     "output_type": "execute_result"
    }
   ],
   "source": [
    "QState(3).show().collapse({0: ONE})"
   ]
  },
  {
   "cell_type": "markdown",
   "metadata": {},
   "source": [
    "Mit dieser Änderung von `__init__` kann ein Dictionary übergeben werden, das angibt, welches Qubit wie initialisiert werden soll. Per default wird jedes Qubit auf $|0\\rangle$, d.h. `np.array([1, 0])` gesetzt. Der Kopf der Initialisierungsmethode zeigt beispielhaft, wie ein solches Dictionary aufgebaut ist. Die Zählung der Qubits beginnt bei 0."
   ]
  },
  {
   "cell_type": "code",
   "execution_count": 271,
   "metadata": {},
   "outputs": [],
   "source": [
    "class QState(QState):\n",
    "    def __init__(self, n, qubitState = {0: np.array([1, 0])}):\n",
    "        self.n = n\n",
    "        self.state = np.array([1], dtype=complex)\n",
    "        for qubit in range(0,n):\n",
    "            self.state = np.kron(self.state, qubitState.get(qubit, np.array([1, 0])))"
   ]
  },
  {
   "cell_type": "code",
   "execution_count": 272,
   "metadata": {},
   "outputs": [
    {
     "data": {
      "text/plain": [
       "QState(3) valid = True:\n",
       " 0 |000⟩ 1.0 (1.0000 * e^0.00°) 100.00%\n",
       " 1 |001⟩ 0.0 (0.0000 * e^0.00°) 0.00%\n",
       " 2 |010⟩ 0.0 (0.0000 * e^0.00°) 0.00%\n",
       " 3 |011⟩ 0.0 (0.0000 * e^0.00°) 0.00%\n",
       " 4 |100⟩ 0.0 (0.0000 * e^0.00°) 0.00%\n",
       " 5 |101⟩ 0.0 (0.0000 * e^0.00°) 0.00%\n",
       " 6 |110⟩ 0.0 (0.0000 * e^0.00°) 0.00%\n",
       " 7 |111⟩ 0.0 (0.0000 * e^0.00°) 0.00%"
      ]
     },
     "execution_count": 272,
     "metadata": {},
     "output_type": "execute_result"
    }
   ],
   "source": [
    "QState(3)"
   ]
  },
  {
   "cell_type": "code",
   "execution_count": 273,
   "metadata": {},
   "outputs": [
    {
     "data": {
      "text/plain": [
       "QState(3) valid = True:\n",
       " 0 |000⟩ 0.0 (0.0000 * e^0.00°) 0.00%\n",
       " 1 |001⟩ 0.0 (0.0000 * e^0.00°) 0.00%\n",
       " 2 |010⟩ 0.0 (0.0000 * e^0.00°) 0.00%\n",
       " 3 |011⟩ 1.0 (1.0000 * e^0.00°) 100.00%\n",
       " 4 |100⟩ 0.0 (0.0000 * e^0.00°) 0.00%\n",
       " 5 |101⟩ 0.0 (0.0000 * e^0.00°) 0.00%\n",
       " 6 |110⟩ 0.0 (0.0000 * e^0.00°) 0.00%\n",
       " 7 |111⟩ 0.0 (0.0000 * e^0.00°) 0.00%"
      ]
     },
     "execution_count": 273,
     "metadata": {},
     "output_type": "execute_result"
    }
   ],
   "source": [
    "QState(3, {1: np.array([0,1]), 2: np.array([0,1])})"
   ]
  },
  {
   "cell_type": "markdown",
   "metadata": {},
   "source": [
    "Aufsetzen einiger Gates für die folgende Simulation."
   ]
  },
  {
   "cell_type": "markdown",
   "metadata": {},
   "source": [
    "## Expectations (Erwartungen)"
   ]
  },
  {
   "cell_type": "markdown",
   "metadata": {},
   "source": [
    "Die Erwartung gibt an, mit welcher Wahrscheinlichkeit ein Qubit bzw. eine Reihe von Qubits an den gegebenen Positionen einen bestimmten Wert annehmen. Bei einem Qubit wird in der Regel die Wahrscheinlichkeit für $|0\\rangle$ oder $|1\\rangle$ als Erwartung angefragt, bei zwei Qubits eine Kombination aus $|0\\rangle\\,|0\\rangle$, $|0\\rangle\\,|1\\rangle$, $|1\\rangle\\,|0\\rangle$ bzw. $|1\\rangle\\,|1\\rangle$."
   ]
  },
  {
   "cell_type": "markdown",
   "metadata": {},
   "source": [
    "Das Skalarprodukt zweier Basisvektoren ist Null."
   ]
  },
  {
   "cell_type": "code",
   "execution_count": 312,
   "metadata": {},
   "outputs": [
    {
     "data": {
      "text/plain": [
       "array([0.+0.j, 0.+0.j])"
      ]
     },
     "execution_count": 312,
     "metadata": {},
     "output_type": "execute_result"
    }
   ],
   "source": [
    "ZERO * ONE"
   ]
  },
  {
   "cell_type": "markdown",
   "metadata": {},
   "source": [
    "## Measurement"
   ]
  },
  {
   "cell_type": "code",
   "execution_count": 317,
   "metadata": {},
   "outputs": [
    {
     "data": {
      "text/plain": [
       "0.19945621773927957"
      ]
     },
     "execution_count": 317,
     "metadata": {},
     "output_type": "execute_result"
    }
   ],
   "source": [
    "from numpy.random import default_rng\n",
    "rng = default_rng()\n",
    "val = rng.uniform(0, 1)\n",
    "val"
   ]
  },
  {
   "cell_type": "code",
   "execution_count": null,
   "metadata": {},
   "outputs": [],
   "source": [
    "def measure(qubit, basisA = ZERO, basisB = ONE):\n",
    "    rng = default_rng()\n",
    "    prob = self.expect({qubit: basisA});\n",
    "    measured = basisA if rng.uniform(0, 1) <= prob else basisB\n",
    "     "
   ]
  },
  {
   "cell_type": "markdown",
   "metadata": {},
   "source": [
    "## Simulation"
   ]
  },
  {
   "cell_type": "code",
   "execution_count": 279,
   "metadata": {},
   "outputs": [],
   "source": [
    "from cmath import sqrt"
   ]
  },
  {
   "cell_type": "code",
   "execution_count": 280,
   "metadata": {},
   "outputs": [
    {
     "data": {
      "text/plain": [
       "QState(4) valid = True:\n",
       " 0 |0000⟩ 0.4999999999999999 (0.5000 * e^0.00°) 25.00%\n",
       " 1 |0001⟩ 0.0 (0.0000 * e^0.00°) 0.00%\n",
       " 2 |0010⟩ 0.0 (0.0000 * e^0.00°) 0.00%\n",
       " 3 |0011⟩ 0.0 (0.0000 * e^0.00°) 0.00%\n",
       " 4 |0100⟩ 0.4999999999999999 (0.5000 * e^0.00°) 25.00%\n",
       " 5 |0101⟩ 0.0 (0.0000 * e^0.00°) 0.00%\n",
       " 6 |0110⟩ 0.0 (0.0000 * e^0.00°) 0.00%\n",
       " 7 |0111⟩ 0.0 (0.0000 * e^0.00°) 0.00%\n",
       " 8 |1000⟩ 0.4999999999999999 (0.5000 * e^0.00°) 25.00%\n",
       " 9 |1001⟩ 0.0 (0.0000 * e^0.00°) 0.00%\n",
       "10 |1010⟩ 0.0 (0.0000 * e^0.00°) 0.00%\n",
       "11 |1011⟩ 0.0 (0.0000 * e^0.00°) 0.00%\n",
       "12 |1100⟩ 0.4999999999999999 (0.5000 * e^0.00°) 25.00%\n",
       "13 |1101⟩ 0.0 (0.0000 * e^0.00°) 0.00%\n",
       "14 |1110⟩ 0.0 (0.0000 * e^0.00°) 0.00%\n",
       "15 |1111⟩ 0.0 (0.0000 * e^0.00°) 0.00%"
      ]
     },
     "execution_count": 280,
     "metadata": {},
     "output_type": "execute_result"
    }
   ],
   "source": [
    "q = QState(4, {0: np.array([1/sqrt(2), 1/sqrt(2)]),\n",
    "               1: np.array([1/sqrt(2), 1/sqrt(2)])})\n",
    "#q = QState(4)\n",
    "q"
   ]
  },
  {
   "cell_type": "code",
   "execution_count": 281,
   "metadata": {},
   "outputs": [
    {
     "data": {
      "text/plain": [
       "QState(4) valid = True:\n",
       " 0 |0000⟩ 0.4999999999999999 (0.5000 * e^0.00°) 25.00%\n",
       " 1 |0001⟩ 0.0 (0.0000 * e^0.00°) 0.00%\n",
       " 2 |0010⟩ 0.0 (0.0000 * e^0.00°) 0.00%\n",
       " 3 |0011⟩ 0.0 (0.0000 * e^0.00°) 0.00%\n",
       " 4 |0100⟩ 0.4999999999999999 (0.5000 * e^0.00°) 25.00%\n",
       " 5 |0101⟩ 0.0 (0.0000 * e^0.00°) 0.00%\n",
       " 6 |0110⟩ 0.0 (0.0000 * e^0.00°) 0.00%\n",
       " 7 |0111⟩ 0.0 (0.0000 * e^0.00°) 0.00%\n",
       " 8 |1000⟩ 0.4999999999999999 (0.5000 * e^0.00°) 25.00%\n",
       " 9 |1001⟩ 0.0 (0.0000 * e^0.00°) 0.00%\n",
       "10 |1010⟩ 0.0 (0.0000 * e^0.00°) 0.00%\n",
       "11 |1011⟩ 0.0 (0.0000 * e^0.00°) 0.00%\n",
       "12 |1100⟩ 0.4999999999999999 (0.5000 * e^0.00°) 25.00%\n",
       "13 |1101⟩ 0.0 (0.0000 * e^0.00°) 0.00%\n",
       "14 |1110⟩ 0.0 (0.0000 * e^0.00°) 0.00%\n",
       "15 |1111⟩ 0.0 (0.0000 * e^0.00°) 0.00%"
      ]
     },
     "execution_count": 281,
     "metadata": {},
     "output_type": "execute_result"
    }
   ],
   "source": [
    "q = q.op(PAULIX, 0).op(PAULIX, 1)\n",
    "q"
   ]
  },
  {
   "cell_type": "code",
   "execution_count": 282,
   "metadata": {},
   "outputs": [
    {
     "data": {
      "text/plain": [
       "QState(4) valid = True:\n",
       " 0 |0000⟩ 0.4999999999999999 (0.5000 * e^0.00°) 25.00%\n",
       " 1 |0001⟩ 0.0 (0.0000 * e^0.00°) 0.00%\n",
       " 2 |0010⟩ 0.0 (0.0000 * e^0.00°) 0.00%\n",
       " 3 |0011⟩ 0.0 (0.0000 * e^0.00°) 0.00%\n",
       " 4 |0100⟩ 0.4999999999999999 (0.5000 * e^0.00°) 25.00%\n",
       " 5 |0101⟩ 0.0 (0.0000 * e^0.00°) 0.00%\n",
       " 6 |0110⟩ 0.0 (0.0000 * e^0.00°) 0.00%\n",
       " 7 |0111⟩ 0.0 (0.0000 * e^0.00°) 0.00%\n",
       " 8 |1000⟩ 0.0 (0.0000 * e^0.00°) 0.00%\n",
       " 9 |1001⟩ 0.0 (0.0000 * e^0.00°) 0.00%\n",
       "10 |1010⟩ 0.4999999999999999 (0.5000 * e^0.00°) 25.00%\n",
       "11 |1011⟩ 0.0 (0.0000 * e^0.00°) 0.00%\n",
       "12 |1100⟩ 0.0 (0.0000 * e^0.00°) 0.00%\n",
       "13 |1101⟩ 0.0 (0.0000 * e^0.00°) 0.00%\n",
       "14 |1110⟩ 0.4999999999999999 (0.5000 * e^0.00°) 25.00%\n",
       "15 |1111⟩ 0.0 (0.0000 * e^0.00°) 0.00%"
      ]
     },
     "execution_count": 282,
     "metadata": {},
     "output_type": "execute_result"
    }
   ],
   "source": [
    "q = q.op(SWAP, 1).op(CNOT).op(SWAP, 1)\n",
    "q"
   ]
  },
  {
   "cell_type": "code",
   "execution_count": 283,
   "metadata": {},
   "outputs": [
    {
     "data": {
      "text/plain": [
       "QState(4) valid = True:\n",
       " 0 |0000⟩ 0.4999999999999999 (0.5000 * e^0.00°) 25.00%\n",
       " 1 |0001⟩ 0.0 (0.0000 * e^0.00°) 0.00%\n",
       " 2 |0010⟩ 0.0 (0.0000 * e^0.00°) 0.00%\n",
       " 3 |0011⟩ 0.0 (0.0000 * e^0.00°) 0.00%\n",
       " 4 |0100⟩ 0.0 (0.0000 * e^0.00°) 0.00%\n",
       " 5 |0101⟩ 0.0 (0.0000 * e^0.00°) 0.00%\n",
       " 6 |0110⟩ 0.4999999999999999 (0.5000 * e^0.00°) 25.00%\n",
       " 7 |0111⟩ 0.0 (0.0000 * e^0.00°) 0.00%\n",
       " 8 |1000⟩ 0.0 (0.0000 * e^0.00°) 0.00%\n",
       " 9 |1001⟩ 0.0 (0.0000 * e^0.00°) 0.00%\n",
       "10 |1010⟩ 0.4999999999999999 (0.5000 * e^0.00°) 25.00%\n",
       "11 |1011⟩ 0.0 (0.0000 * e^0.00°) 0.00%\n",
       "12 |1100⟩ 0.4999999999999999 (0.5000 * e^0.00°) 25.00%\n",
       "13 |1101⟩ 0.0 (0.0000 * e^0.00°) 0.00%\n",
       "14 |1110⟩ 0.0 (0.0000 * e^0.00°) 0.00%\n",
       "15 |1111⟩ 0.0 (0.0000 * e^0.00°) 0.00%"
      ]
     },
     "execution_count": 283,
     "metadata": {},
     "output_type": "execute_result"
    }
   ],
   "source": [
    "q = q.op(CNOT, 1)\n",
    "q"
   ]
  },
  {
   "cell_type": "code",
   "execution_count": 284,
   "metadata": {},
   "outputs": [
    {
     "name": "stdout",
     "output_type": "stream",
     "text": [
      "QState(4) valid = True:\n",
      " 0 |0000⟩ 0.4999999999999999 (0.5000 * e^0.00°) 25.00%\n",
      " 1 |0001⟩ 0.0 (0.0000 * e^0.00°) 0.00%\n",
      " 2 |0010⟩ 0.0 (0.0000 * e^0.00°) 0.00%\n",
      " 3 |0011⟩ 0.0 (0.0000 * e^0.00°) 0.00%\n",
      " 4 |0100⟩ 0.0 (0.0000 * e^0.00°) 0.00%\n",
      " 5 |0101⟩ 0.0 (0.0000 * e^0.00°) 0.00%\n",
      " 6 |0110⟩ 0.4999999999999999 (0.5000 * e^0.00°) 25.00%\n",
      " 7 |0111⟩ 0.0 (0.0000 * e^0.00°) 0.00%\n",
      " 8 |1000⟩ 0.0 (0.0000 * e^0.00°) 0.00%\n",
      " 9 |1001⟩ 0.0 (0.0000 * e^0.00°) 0.00%\n",
      "10 |1010⟩ 0.4999999999999999 (0.5000 * e^0.00°) 25.00%\n",
      "11 |1011⟩ 0.0 (0.0000 * e^0.00°) 0.00%\n",
      "12 |1100⟩ 0.0 (0.0000 * e^0.00°) 0.00%\n",
      "13 |1101⟩ 0.4999999999999999 (0.5000 * e^0.00°) 25.00%\n",
      "14 |1110⟩ 0.0 (0.0000 * e^0.00°) 0.00%\n",
      "15 |1111⟩ 0.0 (0.0000 * e^0.00°) 0.00%\n"
     ]
    },
    {
     "data": {
      "image/png": "[encoded data removed]",
      "text/plain": [
       "<Figure size 432x288 with 1 Axes>"
      ]
     },
     "metadata": {
      "needs_background": "light"
     },
     "output_type": "display_data"
    }
   ],
   "source": [
    "q = q.op(SWAP, 2).op(TOFFOLI).op(SWAP, 2).show().plot()"
   ]
  },
  {
   "cell_type": "code",
   "execution_count": 306,
   "metadata": {},
   "outputs": [
    {
     "name": "stdout",
     "output_type": "stream",
     "text": [
      "(0.2499999999999999+0j)\n",
      "(0.2499999999999999+0j)\n",
      "(0.4999999999999998+0j)\n",
      "0j\n",
      "(0.4999999999999998+0j)\n",
      "(0.4999999999999998+0j)\n",
      "(0.7499999999999997+0j)\n",
      "(0.2499999999999999+0j)\n"
     ]
    }
   ],
   "source": [
    "print(q.expect({2: ZERO, 3: ZERO})) # 25%\n",
    "print(q.expect({2: ZERO, 3: ONE}))  # 25%\n",
    "print(q.expect({2: ONE, 3: ZERO}))  # 50%\n",
    "print(q.expect({2: ONE, 3: ONE}))   #  0%\n",
    "print(q.expect({2: ZERO})) # 50%\n",
    "print(q.expect({2: ONE}))  # 50%\n",
    "print(q.expect({3: ZERO})) # 75%\n",
    "print(q.expect({3: ONE}))  # 25%"
   ]
  },
  {
   "cell_type": "markdown",
   "metadata": {},
   "source": [
    "Beachte: Aus der Erwartung an die Einzelbits ist nicht so einfach die Erwartung an die Kombination von Bits zu berechnen. Eine Messung verändert den Zustandsvektor, was die zweite Messung beeinflusst. Das ist zwar kommutativ, aber den Erwartungen nicht als Kombination anzusehen."
   ]
  },
  {
   "cell_type": "markdown",
   "metadata": {},
   "source": []
  }
 ],
 "metadata": {
  "interpreter": {
   "hash": "b0fa6594d8f4cbf19f97940f81e996739fb7646882a419484c72d19e05852a7e"
  },
  "kernelspec": {
   "display_name": "Python 3.9.12 64-bit",
   "language": "python",
   "name": "python3"
  },
  "language_info": {
   "codemirror_mode": {
    "name": "ipython",
    "version": 3
   },
   "file_extension": ".py",
   "mimetype": "text/x-python",
   "name": "python",
   "nbconvert_exporter": "python",
   "pygments_lexer": "ipython3",
   "version": "3.9.12"
  },
  "orig_nbformat": 4
 },
 "nbformat": 4,
 "nbformat_minor": 2
}
